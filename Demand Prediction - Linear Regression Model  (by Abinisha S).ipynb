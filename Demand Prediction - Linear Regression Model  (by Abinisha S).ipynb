{
 "cells": [
  {
   "cell_type": "markdown",
   "id": "e8805bfd",
   "metadata": {},
   "source": [
    "**Problem Statement** : \n",
    "\n",
    "One of the largest retail chains in the world wants to use their vast data source to build an efficient forecasting model to predict the sales for each SKU in its portfolio at its 76 different stores using historical sales data for the past 3 years on a week-on-week basis. Sales and promotional information is also available for each week - product and store wise. \n",
    "\n",
    "However, no other information regarding stores and products are available. So we need to forecast accurately the sales values for every such product/SKU-store combination for the next 12 weeks accurately. "
   ]
  },
  {
   "cell_type": "markdown",
   "id": "99c21a56",
   "metadata": {},
   "source": [
    "**Data Description**\n",
    "\n",
    "Variable - Definition\n",
    "\n",
    "record_ID - Unique ID for each week store sku combination.\n",
    "\n",
    "week - Starting Date of the week\n",
    "\n",
    "store_id - Unique ID for each store (no numerical order to be assumed)\n",
    "\n",
    "sku_id - Unique ID for each product (no numerical order to be assumed)\n",
    "\n",
    "total_price - Sales Price of the product\n",
    "\n",
    "base_price - Base price of the product\n",
    "\n",
    "is_featured_sku - Was part of the featured item of the week\n",
    "\n",
    "is_display_sku - Product was on display at a prominent place at the store\n",
    "\n",
    "units_sold - (Target) Total Units sold for that week-store-sku combination\n"
   ]
  },
  {
   "cell_type": "code",
   "execution_count": 1,
   "id": "4b38e7a9",
   "metadata": {},
   "outputs": [],
   "source": [
    "'''Importing Important libraries'''\n",
    "import pandas as pd\n",
    "import numpy as np\n",
    "import matplotlib.pyplot as plt\n",
    "import seaborn as sns\n",
    "import plotly.express as px\n",
    "import warnings\n",
    "warnings.filterwarnings('ignore')\n",
    "from scipy.stats import mode\n",
    "from datetime import datetime"
   ]
  },
  {
   "cell_type": "code",
   "execution_count": 2,
   "id": "a8e3acdb",
   "metadata": {},
   "outputs": [],
   "source": [
    "import os"
   ]
  },
  {
   "cell_type": "code",
   "execution_count": 3,
   "id": "f786e681",
   "metadata": {},
   "outputs": [
    {
     "data": {
      "text/plain": [
       "<function nt.getcwd()>"
      ]
     },
     "execution_count": 3,
     "metadata": {},
     "output_type": "execute_result"
    }
   ],
   "source": [
    "os.getcwd"
   ]
  },
  {
   "cell_type": "code",
   "execution_count": 4,
   "id": "21fe31ed",
   "metadata": {},
   "outputs": [],
   "source": [
    "#defining path of the file\n",
    "os.chdir('C:\\\\Users\\\\abini\\\\OneDrive\\\\Desktop\\\\Analytics Vidya course\\\\ML\\\\Linear Regression Project')"
   ]
  },
  {
   "cell_type": "code",
   "execution_count": 5,
   "id": "3cac0589",
   "metadata": {},
   "outputs": [],
   "source": [
    "train_data = pd.read_csv('train_data.csv')\n",
    "test_data = pd.read_csv('test_data.csv')"
   ]
  },
  {
   "cell_type": "code",
   "execution_count": 6,
   "id": "a5ce453b",
   "metadata": {},
   "outputs": [],
   "source": [
    "#Keeping a copy of original train and test data.\n",
    "train_data_or = train_data.copy()\n",
    "test_data_or = test_data.copy()"
   ]
  },
  {
   "cell_type": "code",
   "execution_count": 7,
   "id": "1a3516d4",
   "metadata": {},
   "outputs": [
    {
     "data": {
      "text/plain": [
       "(150150, 9)"
      ]
     },
     "execution_count": 7,
     "metadata": {},
     "output_type": "execute_result"
    }
   ],
   "source": [
    "train_data.shape"
   ]
  },
  {
   "cell_type": "markdown",
   "id": "816e48f8",
   "metadata": {},
   "source": [
    "There are 150150 rows and 9 features present in train data."
   ]
  },
  {
   "cell_type": "code",
   "execution_count": 8,
   "id": "4923b415",
   "metadata": {},
   "outputs": [
    {
     "data": {
      "text/plain": [
       "(13860, 8)"
      ]
     },
     "execution_count": 8,
     "metadata": {},
     "output_type": "execute_result"
    }
   ],
   "source": [
    "test_data.shape"
   ]
  },
  {
   "cell_type": "markdown",
   "id": "393605f8",
   "metadata": {},
   "source": [
    "13860 rows in 8 features are present in test data."
   ]
  },
  {
   "cell_type": "code",
   "execution_count": 9,
   "id": "bd883864",
   "metadata": {},
   "outputs": [
    {
     "name": "stdout",
     "output_type": "stream",
     "text": [
      "<class 'pandas.core.frame.DataFrame'>\n",
      "RangeIndex: 13860 entries, 0 to 13859\n",
      "Data columns (total 8 columns):\n",
      " #   Column           Non-Null Count  Dtype  \n",
      "---  ------           --------------  -----  \n",
      " 0   record_ID        13860 non-null  int64  \n",
      " 1   week             13860 non-null  object \n",
      " 2   store_id         13860 non-null  int64  \n",
      " 3   sku_id           13860 non-null  int64  \n",
      " 4   total_price      13860 non-null  float64\n",
      " 5   base_price       13860 non-null  float64\n",
      " 6   is_featured_sku  13860 non-null  int64  \n",
      " 7   is_display_sku   13860 non-null  int64  \n",
      "dtypes: float64(2), int64(5), object(1)\n",
      "memory usage: 866.4+ KB\n"
     ]
    }
   ],
   "source": [
    "test_data.info()"
   ]
  },
  {
   "cell_type": "code",
   "execution_count": 10,
   "id": "e972c456",
   "metadata": {},
   "outputs": [
    {
     "data": {
      "text/plain": [
       "record_ID          0\n",
       "week               0\n",
       "store_id           0\n",
       "sku_id             0\n",
       "total_price        0\n",
       "base_price         0\n",
       "is_featured_sku    0\n",
       "is_display_sku     0\n",
       "dtype: int64"
      ]
     },
     "execution_count": 10,
     "metadata": {},
     "output_type": "execute_result"
    }
   ],
   "source": [
    "test_data.isnull().sum()"
   ]
  },
  {
   "cell_type": "markdown",
   "id": "140f1b5e",
   "metadata": {},
   "source": [
    "No null values are present in test data"
   ]
  },
  {
   "cell_type": "code",
   "execution_count": 11,
   "id": "3ca0a87c",
   "metadata": {},
   "outputs": [
    {
     "name": "stdout",
     "output_type": "stream",
     "text": [
      "<class 'pandas.core.frame.DataFrame'>\n",
      "RangeIndex: 150150 entries, 0 to 150149\n",
      "Data columns (total 9 columns):\n",
      " #   Column           Non-Null Count   Dtype  \n",
      "---  ------           --------------   -----  \n",
      " 0   record_ID        150150 non-null  int64  \n",
      " 1   week             150150 non-null  object \n",
      " 2   store_id         150150 non-null  int64  \n",
      " 3   sku_id           150150 non-null  int64  \n",
      " 4   total_price      150149 non-null  float64\n",
      " 5   base_price       150150 non-null  float64\n",
      " 6   is_featured_sku  150150 non-null  int64  \n",
      " 7   is_display_sku   150150 non-null  int64  \n",
      " 8   units_sold       150150 non-null  int64  \n",
      "dtypes: float64(2), int64(6), object(1)\n",
      "memory usage: 10.3+ MB\n"
     ]
    }
   ],
   "source": [
    "train_data.info()"
   ]
  },
  {
   "cell_type": "code",
   "execution_count": 12,
   "id": "3c8f5e18",
   "metadata": {},
   "outputs": [
    {
     "data": {
      "text/plain": [
       "record_ID          0\n",
       "week               0\n",
       "store_id           0\n",
       "sku_id             0\n",
       "total_price        1\n",
       "base_price         0\n",
       "is_featured_sku    0\n",
       "is_display_sku     0\n",
       "units_sold         0\n",
       "dtype: int64"
      ]
     },
     "execution_count": 12,
     "metadata": {},
     "output_type": "execute_result"
    }
   ],
   "source": [
    "train_data.isnull().sum()"
   ]
  },
  {
   "cell_type": "markdown",
   "id": "f3b78e67",
   "metadata": {},
   "source": [
    "As we can see, there is only one null value present in the entire train data, and the null value is seen in total_price feature."
   ]
  },
  {
   "cell_type": "markdown",
   "id": "533620bc",
   "metadata": {},
   "source": [
    "## Missing Value Treatment"
   ]
  },
  {
   "cell_type": "code",
   "execution_count": 13,
   "id": "678811bf",
   "metadata": {},
   "outputs": [
    {
     "data": {
      "text/html": [
       "<div>\n",
       "<style scoped>\n",
       "    .dataframe tbody tr th:only-of-type {\n",
       "        vertical-align: middle;\n",
       "    }\n",
       "\n",
       "    .dataframe tbody tr th {\n",
       "        vertical-align: top;\n",
       "    }\n",
       "\n",
       "    .dataframe thead th {\n",
       "        text-align: right;\n",
       "    }\n",
       "</style>\n",
       "<table border=\"1\" class=\"dataframe\">\n",
       "  <thead>\n",
       "    <tr style=\"text-align: right;\">\n",
       "      <th></th>\n",
       "      <th>record_ID</th>\n",
       "      <th>week</th>\n",
       "      <th>store_id</th>\n",
       "      <th>sku_id</th>\n",
       "      <th>total_price</th>\n",
       "      <th>base_price</th>\n",
       "      <th>is_featured_sku</th>\n",
       "      <th>is_display_sku</th>\n",
       "      <th>units_sold</th>\n",
       "    </tr>\n",
       "  </thead>\n",
       "  <tbody>\n",
       "    <tr>\n",
       "      <th>136949</th>\n",
       "      <td>193915</td>\n",
       "      <td>23/04/13</td>\n",
       "      <td>9436</td>\n",
       "      <td>245338</td>\n",
       "      <td>NaN</td>\n",
       "      <td>469.5375</td>\n",
       "      <td>0</td>\n",
       "      <td>0</td>\n",
       "      <td>1</td>\n",
       "    </tr>\n",
       "  </tbody>\n",
       "</table>\n",
       "</div>"
      ],
      "text/plain": [
       "        record_ID      week  store_id  sku_id  total_price  base_price  \\\n",
       "136949     193915  23/04/13      9436  245338          NaN    469.5375   \n",
       "\n",
       "        is_featured_sku  is_display_sku  units_sold  \n",
       "136949                0               0           1  "
      ]
     },
     "execution_count": 13,
     "metadata": {},
     "output_type": "execute_result"
    }
   ],
   "source": [
    "#To study the nature of missing value\n",
    "train_data[train_data[\"total_price\"].isnull()]"
   ]
  },
  {
   "cell_type": "markdown",
   "id": "50f221a5",
   "metadata": {},
   "source": [
    "The **null value** in total_price has it's respective **units_sold as 1**."
   ]
  },
  {
   "cell_type": "code",
   "execution_count": 14,
   "id": "23dfd8d4",
   "metadata": {},
   "outputs": [
    {
     "name": "stdout",
     "output_type": "stream",
     "text": [
      "Mean value of total_price for 1 units sold is 291.72627737226435\n"
     ]
    }
   ],
   "source": [
    "print(\"Mean value of total_price for 1 units sold is\", train_data[\"total_price\"][train_data[\"units_sold\"]==1].mean())"
   ]
  },
  {
   "cell_type": "code",
   "execution_count": 15,
   "id": "8c55a2d0",
   "metadata": {},
   "outputs": [
    {
     "data": {
      "text/html": [
       "<div>\n",
       "<style scoped>\n",
       "    .dataframe tbody tr th:only-of-type {\n",
       "        vertical-align: middle;\n",
       "    }\n",
       "\n",
       "    .dataframe tbody tr th {\n",
       "        vertical-align: top;\n",
       "    }\n",
       "\n",
       "    .dataframe thead th {\n",
       "        text-align: right;\n",
       "    }\n",
       "</style>\n",
       "<table border=\"1\" class=\"dataframe\">\n",
       "  <thead>\n",
       "    <tr style=\"text-align: right;\">\n",
       "      <th></th>\n",
       "      <th>record_ID</th>\n",
       "      <th>week</th>\n",
       "      <th>store_id</th>\n",
       "      <th>sku_id</th>\n",
       "      <th>total_price</th>\n",
       "      <th>base_price</th>\n",
       "      <th>is_featured_sku</th>\n",
       "      <th>is_display_sku</th>\n",
       "      <th>units_sold</th>\n",
       "    </tr>\n",
       "  </thead>\n",
       "  <tbody>\n",
       "    <tr>\n",
       "      <th>0</th>\n",
       "      <td>1</td>\n",
       "      <td>17/01/11</td>\n",
       "      <td>8091</td>\n",
       "      <td>216418</td>\n",
       "      <td>99.0375</td>\n",
       "      <td>111.8625</td>\n",
       "      <td>0</td>\n",
       "      <td>0</td>\n",
       "      <td>20</td>\n",
       "    </tr>\n",
       "    <tr>\n",
       "      <th>1</th>\n",
       "      <td>2</td>\n",
       "      <td>17/01/11</td>\n",
       "      <td>8091</td>\n",
       "      <td>216419</td>\n",
       "      <td>99.0375</td>\n",
       "      <td>99.0375</td>\n",
       "      <td>0</td>\n",
       "      <td>0</td>\n",
       "      <td>28</td>\n",
       "    </tr>\n",
       "    <tr>\n",
       "      <th>2</th>\n",
       "      <td>3</td>\n",
       "      <td>17/01/11</td>\n",
       "      <td>8091</td>\n",
       "      <td>216425</td>\n",
       "      <td>133.9500</td>\n",
       "      <td>133.9500</td>\n",
       "      <td>0</td>\n",
       "      <td>0</td>\n",
       "      <td>19</td>\n",
       "    </tr>\n",
       "    <tr>\n",
       "      <th>3</th>\n",
       "      <td>4</td>\n",
       "      <td>17/01/11</td>\n",
       "      <td>8091</td>\n",
       "      <td>216233</td>\n",
       "      <td>133.9500</td>\n",
       "      <td>133.9500</td>\n",
       "      <td>0</td>\n",
       "      <td>0</td>\n",
       "      <td>44</td>\n",
       "    </tr>\n",
       "    <tr>\n",
       "      <th>4</th>\n",
       "      <td>5</td>\n",
       "      <td>17/01/11</td>\n",
       "      <td>8091</td>\n",
       "      <td>217390</td>\n",
       "      <td>141.0750</td>\n",
       "      <td>141.0750</td>\n",
       "      <td>0</td>\n",
       "      <td>0</td>\n",
       "      <td>52</td>\n",
       "    </tr>\n",
       "  </tbody>\n",
       "</table>\n",
       "</div>"
      ],
      "text/plain": [
       "   record_ID      week  store_id  sku_id  total_price  base_price  \\\n",
       "0          1  17/01/11      8091  216418      99.0375    111.8625   \n",
       "1          2  17/01/11      8091  216419      99.0375     99.0375   \n",
       "2          3  17/01/11      8091  216425     133.9500    133.9500   \n",
       "3          4  17/01/11      8091  216233     133.9500    133.9500   \n",
       "4          5  17/01/11      8091  217390     141.0750    141.0750   \n",
       "\n",
       "   is_featured_sku  is_display_sku  units_sold  \n",
       "0                0               0          20  \n",
       "1                0               0          28  \n",
       "2                0               0          19  \n",
       "3                0               0          44  \n",
       "4                0               0          52  "
      ]
     },
     "execution_count": 15,
     "metadata": {},
     "output_type": "execute_result"
    }
   ],
   "source": [
    "#Treating missing value of total_price with mean value of total price corresponding to one units_sold.\n",
    "train_data[\"total_price\"] = train_data[\"total_price\"].fillna(train_data[\"total_price\"][train_data[\"units_sold\"]==1].mean())\n",
    "train_data.head()"
   ]
  },
  {
   "cell_type": "code",
   "execution_count": 16,
   "id": "6d77de4f",
   "metadata": {},
   "outputs": [
    {
     "data": {
      "text/plain": [
       "record_ID          0\n",
       "week               0\n",
       "store_id           0\n",
       "sku_id             0\n",
       "total_price        0\n",
       "base_price         0\n",
       "is_featured_sku    0\n",
       "is_display_sku     0\n",
       "units_sold         0\n",
       "dtype: int64"
      ]
     },
     "execution_count": 16,
     "metadata": {},
     "output_type": "execute_result"
    }
   ],
   "source": [
    "train_data.isnull().sum()"
   ]
  },
  {
   "cell_type": "markdown",
   "id": "6697d30e",
   "metadata": {},
   "source": [
    "No more missing values are present in train data."
   ]
  },
  {
   "cell_type": "markdown",
   "id": "14349ef2",
   "metadata": {},
   "source": [
    "## Feature Creation"
   ]
  },
  {
   "cell_type": "markdown",
   "id": "4fbd8bdf",
   "metadata": {},
   "source": [
    "Creating week_number, month, day and, year features from date."
   ]
  },
  {
   "cell_type": "code",
   "execution_count": 17,
   "id": "b87fe784",
   "metadata": {},
   "outputs": [],
   "source": [
    "train_data['date'] = pd.to_datetime(train_data['week'])                         #creating a column named date from week feature\n",
    "train_data.drop(['week'], axis = 1, inplace =True)                              # dropping 'week feature' \n",
    "train_data[\"year\"] = train_data[\"date\"].dt.year\n",
    "train_data[\"month\"]= train_data['date'].dt.month\n",
    "train_data[\"day_name\"] = train_data[\"date\"].dt.day_name()\n",
    "train_data[\"week_number\"] = train_data['date'].dt.week"
   ]
  },
  {
   "cell_type": "code",
   "execution_count": 18,
   "id": "ef689b65",
   "metadata": {
    "scrolled": false
   },
   "outputs": [
    {
     "data": {
      "text/html": [
       "<div>\n",
       "<style scoped>\n",
       "    .dataframe tbody tr th:only-of-type {\n",
       "        vertical-align: middle;\n",
       "    }\n",
       "\n",
       "    .dataframe tbody tr th {\n",
       "        vertical-align: top;\n",
       "    }\n",
       "\n",
       "    .dataframe thead th {\n",
       "        text-align: right;\n",
       "    }\n",
       "</style>\n",
       "<table border=\"1\" class=\"dataframe\">\n",
       "  <thead>\n",
       "    <tr style=\"text-align: right;\">\n",
       "      <th></th>\n",
       "      <th>record_ID</th>\n",
       "      <th>store_id</th>\n",
       "      <th>sku_id</th>\n",
       "      <th>total_price</th>\n",
       "      <th>base_price</th>\n",
       "      <th>is_featured_sku</th>\n",
       "      <th>is_display_sku</th>\n",
       "      <th>units_sold</th>\n",
       "      <th>date</th>\n",
       "      <th>year</th>\n",
       "      <th>month</th>\n",
       "      <th>day_name</th>\n",
       "      <th>week_number</th>\n",
       "    </tr>\n",
       "  </thead>\n",
       "  <tbody>\n",
       "    <tr>\n",
       "      <th>0</th>\n",
       "      <td>1</td>\n",
       "      <td>8091</td>\n",
       "      <td>216418</td>\n",
       "      <td>99.0375</td>\n",
       "      <td>111.8625</td>\n",
       "      <td>0</td>\n",
       "      <td>0</td>\n",
       "      <td>20</td>\n",
       "      <td>2011-01-17</td>\n",
       "      <td>2011</td>\n",
       "      <td>1</td>\n",
       "      <td>Monday</td>\n",
       "      <td>3</td>\n",
       "    </tr>\n",
       "    <tr>\n",
       "      <th>1</th>\n",
       "      <td>2</td>\n",
       "      <td>8091</td>\n",
       "      <td>216419</td>\n",
       "      <td>99.0375</td>\n",
       "      <td>99.0375</td>\n",
       "      <td>0</td>\n",
       "      <td>0</td>\n",
       "      <td>28</td>\n",
       "      <td>2011-01-17</td>\n",
       "      <td>2011</td>\n",
       "      <td>1</td>\n",
       "      <td>Monday</td>\n",
       "      <td>3</td>\n",
       "    </tr>\n",
       "    <tr>\n",
       "      <th>2</th>\n",
       "      <td>3</td>\n",
       "      <td>8091</td>\n",
       "      <td>216425</td>\n",
       "      <td>133.9500</td>\n",
       "      <td>133.9500</td>\n",
       "      <td>0</td>\n",
       "      <td>0</td>\n",
       "      <td>19</td>\n",
       "      <td>2011-01-17</td>\n",
       "      <td>2011</td>\n",
       "      <td>1</td>\n",
       "      <td>Monday</td>\n",
       "      <td>3</td>\n",
       "    </tr>\n",
       "    <tr>\n",
       "      <th>3</th>\n",
       "      <td>4</td>\n",
       "      <td>8091</td>\n",
       "      <td>216233</td>\n",
       "      <td>133.9500</td>\n",
       "      <td>133.9500</td>\n",
       "      <td>0</td>\n",
       "      <td>0</td>\n",
       "      <td>44</td>\n",
       "      <td>2011-01-17</td>\n",
       "      <td>2011</td>\n",
       "      <td>1</td>\n",
       "      <td>Monday</td>\n",
       "      <td>3</td>\n",
       "    </tr>\n",
       "    <tr>\n",
       "      <th>4</th>\n",
       "      <td>5</td>\n",
       "      <td>8091</td>\n",
       "      <td>217390</td>\n",
       "      <td>141.0750</td>\n",
       "      <td>141.0750</td>\n",
       "      <td>0</td>\n",
       "      <td>0</td>\n",
       "      <td>52</td>\n",
       "      <td>2011-01-17</td>\n",
       "      <td>2011</td>\n",
       "      <td>1</td>\n",
       "      <td>Monday</td>\n",
       "      <td>3</td>\n",
       "    </tr>\n",
       "  </tbody>\n",
       "</table>\n",
       "</div>"
      ],
      "text/plain": [
       "   record_ID  store_id  sku_id  total_price  base_price  is_featured_sku  \\\n",
       "0          1      8091  216418      99.0375    111.8625                0   \n",
       "1          2      8091  216419      99.0375     99.0375                0   \n",
       "2          3      8091  216425     133.9500    133.9500                0   \n",
       "3          4      8091  216233     133.9500    133.9500                0   \n",
       "4          5      8091  217390     141.0750    141.0750                0   \n",
       "\n",
       "   is_display_sku  units_sold       date  year  month day_name  week_number  \n",
       "0               0          20 2011-01-17  2011      1   Monday            3  \n",
       "1               0          28 2011-01-17  2011      1   Monday            3  \n",
       "2               0          19 2011-01-17  2011      1   Monday            3  \n",
       "3               0          44 2011-01-17  2011      1   Monday            3  \n",
       "4               0          52 2011-01-17  2011      1   Monday            3  "
      ]
     },
     "execution_count": 18,
     "metadata": {},
     "output_type": "execute_result"
    }
   ],
   "source": [
    "train_data.head()"
   ]
  },
  {
   "cell_type": "code",
   "execution_count": 19,
   "id": "bc95d149",
   "metadata": {
    "scrolled": true
   },
   "outputs": [
    {
     "name": "stdout",
     "output_type": "stream",
     "text": [
      "<class 'pandas.core.frame.DataFrame'>\n",
      "RangeIndex: 150150 entries, 0 to 150149\n",
      "Data columns (total 13 columns):\n",
      " #   Column           Non-Null Count   Dtype         \n",
      "---  ------           --------------   -----         \n",
      " 0   record_ID        150150 non-null  int64         \n",
      " 1   store_id         150150 non-null  int64         \n",
      " 2   sku_id           150150 non-null  int64         \n",
      " 3   total_price      150150 non-null  float64       \n",
      " 4   base_price       150150 non-null  float64       \n",
      " 5   is_featured_sku  150150 non-null  int64         \n",
      " 6   is_display_sku   150150 non-null  int64         \n",
      " 7   units_sold       150150 non-null  int64         \n",
      " 8   date             150150 non-null  datetime64[ns]\n",
      " 9   year             150150 non-null  int64         \n",
      " 10  month            150150 non-null  int64         \n",
      " 11  day_name         150150 non-null  object        \n",
      " 12  week_number      150150 non-null  int64         \n",
      "dtypes: datetime64[ns](1), float64(2), int64(9), object(1)\n",
      "memory usage: 14.9+ MB\n"
     ]
    }
   ],
   "source": [
    "train_data.info()"
   ]
  },
  {
   "cell_type": "markdown",
   "id": "c485cac5",
   "metadata": {},
   "source": [
    "We can see store_id, sku_id, week_number, month, year are categorical feature but their datatype is int64, day_name is also categorical but it's already in object type.\n",
    "\n",
    "Thus changing the datatypes of categorical features to str. \n",
    "\n",
    "And record_id is a unique identification id for each entry in the data and, it's not required for model building, thus dropping that feature from data."
   ]
  },
  {
   "cell_type": "code",
   "execution_count": 20,
   "id": "1ff3b58c",
   "metadata": {},
   "outputs": [],
   "source": [
    "train_data['store_id'] = train_data['store_id'].astype('str')\n",
    "train_data['sku_id'] = train_data['sku_id'].astype('str')\n",
    "train_data[\"year\"] = train_data[\"year\"].astype('str')\n",
    "train_data[\"week_number\"] = train_data[\"week_number\"].astype('str')\n",
    "train_data[\"month\"] = train_data[\"month\"].astype('str')\n",
    "train_data.drop(columns = ['record_ID', 'date'], axis = 1, inplace =True)"
   ]
  },
  {
   "cell_type": "code",
   "execution_count": 21,
   "id": "84ee0b29",
   "metadata": {},
   "outputs": [
    {
     "data": {
      "text/plain": [
       "store_id            76\n",
       "sku_id              28\n",
       "total_price        647\n",
       "base_price         572\n",
       "is_featured_sku      2\n",
       "is_display_sku       2\n",
       "units_sold         708\n",
       "year                 3\n",
       "month               12\n",
       "day_name             7\n",
       "week_number         51\n",
       "dtype: int64"
      ]
     },
     "execution_count": 21,
     "metadata": {},
     "output_type": "execute_result"
    }
   ],
   "source": [
    "train_data.nunique()"
   ]
  },
  {
   "cell_type": "code",
   "execution_count": 22,
   "id": "b08a695f",
   "metadata": {
    "scrolled": true
   },
   "outputs": [
    {
     "name": "stdout",
     "output_type": "stream",
     "text": [
      "<class 'pandas.core.frame.DataFrame'>\n",
      "RangeIndex: 150150 entries, 0 to 150149\n",
      "Data columns (total 11 columns):\n",
      " #   Column           Non-Null Count   Dtype  \n",
      "---  ------           --------------   -----  \n",
      " 0   store_id         150150 non-null  object \n",
      " 1   sku_id           150150 non-null  object \n",
      " 2   total_price      150150 non-null  float64\n",
      " 3   base_price       150150 non-null  float64\n",
      " 4   is_featured_sku  150150 non-null  int64  \n",
      " 5   is_display_sku   150150 non-null  int64  \n",
      " 6   units_sold       150150 non-null  int64  \n",
      " 7   year             150150 non-null  object \n",
      " 8   month            150150 non-null  object \n",
      " 9   day_name         150150 non-null  object \n",
      " 10  week_number      150150 non-null  object \n",
      "dtypes: float64(2), int64(3), object(6)\n",
      "memory usage: 12.6+ MB\n"
     ]
    }
   ],
   "source": [
    "train_data.info()"
   ]
  },
  {
   "cell_type": "markdown",
   "id": "2f92946c",
   "metadata": {},
   "source": [
    "No fishy values are found in train_data."
   ]
  },
  {
   "cell_type": "markdown",
   "id": "ab4027fc",
   "metadata": {},
   "source": [
    "Making the same changes in **test data** aswell."
   ]
  },
  {
   "cell_type": "code",
   "execution_count": 23,
   "id": "1480dd95",
   "metadata": {},
   "outputs": [],
   "source": [
    "test_data['date'] = pd.to_datetime(test_data['week'])                          #creating a column named date from week feature\n",
    "test_data.drop(['week'], axis = 1, inplace =True)                              # dropping 'week feature' \n",
    "test_data[\"year\"] = test_data[\"date\"].dt.year\n",
    "test_data[\"month\"]= test_data['date'].dt.month\n",
    "test_data[\"day_name\"] = test_data[\"date\"].dt.day_name()\n",
    "test_data[\"week_number\"] = test_data['date'].dt.week  "
   ]
  },
  {
   "cell_type": "code",
   "execution_count": 24,
   "id": "ba85c07d",
   "metadata": {},
   "outputs": [],
   "source": [
    "test_data['store_id'] = test_data['store_id'].astype('str')\n",
    "test_data['sku_id'] = test_data['sku_id'].astype('str')\n",
    "test_data[\"year\"] = test_data[\"year\"].astype('str')\n",
    "test_data[\"week_number\"] = test_data[\"week_number\"].astype('str')\n",
    "test_data[\"month\"] = test_data[\"month\"].astype('str')\n",
    "test_data.drop(columns = ['record_ID', 'date'], axis = 1, inplace =True)"
   ]
  },
  {
   "cell_type": "code",
   "execution_count": 25,
   "id": "146ed9cb",
   "metadata": {},
   "outputs": [
    {
     "name": "stdout",
     "output_type": "stream",
     "text": [
      "<class 'pandas.core.frame.DataFrame'>\n",
      "RangeIndex: 13860 entries, 0 to 13859\n",
      "Data columns (total 10 columns):\n",
      " #   Column           Non-Null Count  Dtype  \n",
      "---  ------           --------------  -----  \n",
      " 0   store_id         13860 non-null  object \n",
      " 1   sku_id           13860 non-null  object \n",
      " 2   total_price      13860 non-null  float64\n",
      " 3   base_price       13860 non-null  float64\n",
      " 4   is_featured_sku  13860 non-null  int64  \n",
      " 5   is_display_sku   13860 non-null  int64  \n",
      " 6   year             13860 non-null  object \n",
      " 7   month            13860 non-null  object \n",
      " 8   day_name         13860 non-null  object \n",
      " 9   week_number      13860 non-null  object \n",
      "dtypes: float64(2), int64(2), object(6)\n",
      "memory usage: 1.1+ MB\n"
     ]
    }
   ],
   "source": [
    "test_data.info()"
   ]
  },
  {
   "cell_type": "code",
   "execution_count": 26,
   "id": "3fdda5c2",
   "metadata": {},
   "outputs": [
    {
     "data": {
      "text/plain": [
       "store_id            76\n",
       "sku_id              28\n",
       "total_price        442\n",
       "base_price         370\n",
       "is_featured_sku      2\n",
       "is_display_sku       2\n",
       "year                 1\n",
       "month                7\n",
       "day_name             4\n",
       "week_number         12\n",
       "dtype: int64"
      ]
     },
     "execution_count": 26,
     "metadata": {},
     "output_type": "execute_result"
    }
   ],
   "source": [
    "test_data.nunique()"
   ]
  },
  {
   "cell_type": "markdown",
   "id": "f7fc8fe4",
   "metadata": {},
   "source": [
    "No fishy values are seen in test_data."
   ]
  },
  {
   "cell_type": "markdown",
   "id": "61b13201",
   "metadata": {},
   "source": [
    "## Outlier Treatment"
   ]
  },
  {
   "cell_type": "code",
   "execution_count": 27,
   "id": "b1b0c692",
   "metadata": {},
   "outputs": [
    {
     "data": {
      "image/png": "[encoded data removed]",
      "text/plain": [
       "<Figure size 864x504 with 2 Axes>"
      ]
     },
     "metadata": {
      "needs_background": "light"
     },
     "output_type": "display_data"
    }
   ],
   "source": [
    "#plotting box plot of total_price and base_price features from train data.\n",
    "plt.figure(figsize = (12, 7))\n",
    "\n",
    "plt.subplot(1, 2, 1)\n",
    "sns.boxplot(y = train_data['total_price'], color = 'darkturquoise')\n",
    "plt.title(\"Boxplot for total_price\")\n",
    "\n",
    "plt.subplot(1, 2, 2)\n",
    "sns.boxplot(y = train_data['base_price'], color = 'tomato')\n",
    "plt.title(\"Boxplot for base_price\")\n",
    "\n",
    "plt.tight_layout(pad = 4)\n",
    "plt.show()"
   ]
  },
  {
   "cell_type": "markdown",
   "id": "f8a73117",
   "metadata": {},
   "source": [
    "Lot of outliers can be seen in both total_price and base_price"
   ]
  },
  {
   "cell_type": "markdown",
   "id": "635ce921",
   "metadata": {},
   "source": [
    "Treating Outliers using **IQR(Inner Quantile Range)** method."
   ]
  },
  {
   "cell_type": "code",
   "execution_count": 28,
   "id": "ec35d44a",
   "metadata": {},
   "outputs": [
    {
     "name": "stdout",
     "output_type": "stream",
     "text": [
      "130.3875\n",
      "233.7\n",
      "103.3125\n"
     ]
    }
   ],
   "source": [
    "q1=train_data[\"total_price\"].quantile(.25)\n",
    "q3=train_data[\"total_price\"].quantile(.75)\n",
    "iqr = q3-q1\n",
    "print(q1)\n",
    "print(q3)\n",
    "print(iqr)"
   ]
  },
  {
   "cell_type": "code",
   "execution_count": 29,
   "id": "c3ea616a",
   "metadata": {},
   "outputs": [
    {
     "name": "stdout",
     "output_type": "stream",
     "text": [
      "lower fence of total price is -24.58125000000001\n",
      "upper fence of total price is 388.66875\n"
     ]
    }
   ],
   "source": [
    "lf_tp=q1-(1.5*iqr)\n",
    "print(\"lower fence of total price is\", lf_tp)\n",
    "uf_tp = q3 + (1.5*iqr)\n",
    "print(\"upper fence of total price is\",uf_tp)"
   ]
  },
  {
   "cell_type": "code",
   "execution_count": 30,
   "id": "c42bd367",
   "metadata": {},
   "outputs": [
    {
     "name": "stdout",
     "output_type": "stream",
     "text": [
      "133.2375\n",
      "234.4125\n",
      "101.17499999999998\n"
     ]
    }
   ],
   "source": [
    "q1=train_data[\"base_price\"].quantile(.25)\n",
    "q3=train_data[\"base_price\"].quantile(.75)\n",
    "iqr = q3-q1\n",
    "print(q1)\n",
    "print(q3)\n",
    "print(iqr)"
   ]
  },
  {
   "cell_type": "code",
   "execution_count": 31,
   "id": "6ceedd5e",
   "metadata": {},
   "outputs": [
    {
     "name": "stdout",
     "output_type": "stream",
     "text": [
      "lower fence of base price is -18.524999999999977\n",
      "upper fence of base price is 386.17499999999995\n"
     ]
    }
   ],
   "source": [
    "lf_bp=q1-(1.5*iqr)\n",
    "print(\"lower fence of base price is\",lf_bp)\n",
    "uf_bp = q3 + (1.5*iqr)\n",
    "print(\"upper fence of base price is\",uf_bp)"
   ]
  },
  {
   "cell_type": "code",
   "execution_count": 32,
   "id": "ff429ab7",
   "metadata": {},
   "outputs": [
    {
     "name": "stdout",
     "output_type": "stream",
     "text": [
      "<class 'pandas.core.frame.DataFrame'>\n",
      "RangeIndex: 133027 entries, 0 to 133026\n",
      "Data columns (total 11 columns):\n",
      " #   Column           Non-Null Count   Dtype  \n",
      "---  ------           --------------   -----  \n",
      " 0   store_id         133027 non-null  object \n",
      " 1   sku_id           133027 non-null  object \n",
      " 2   total_price      133027 non-null  float64\n",
      " 3   base_price       133027 non-null  float64\n",
      " 4   is_featured_sku  133027 non-null  int64  \n",
      " 5   is_display_sku   133027 non-null  int64  \n",
      " 6   units_sold       133027 non-null  int64  \n",
      " 7   year             133027 non-null  object \n",
      " 8   month            133027 non-null  object \n",
      " 9   day_name         133027 non-null  object \n",
      " 10  week_number      133027 non-null  object \n",
      "dtypes: float64(2), int64(3), object(6)\n",
      "memory usage: 11.2+ MB\n"
     ]
    }
   ],
   "source": [
    "#Since base_price and total_price can't be negative, thus taking lower fence value of both as 0.\n",
    "train_data1=train_data.loc[(train_data[\"total_price\"]>0) & (train_data[\"total_price\"]<uf_tp) & (train_data[\"base_price\"]>0)& (train_data[\"base_price\"]<uf_bp)]\n",
    "train_data1.reset_index(inplace = True, drop = True)\n",
    "train_data1.info()"
   ]
  },
  {
   "cell_type": "markdown",
   "id": "63c5f1be",
   "metadata": {},
   "source": [
    "After outlier treatment 133027 rows are present in 9 features of train data with 0 null values."
   ]
  },
  {
   "cell_type": "markdown",
   "id": "df23aa9d",
   "metadata": {},
   "source": [
    "## Skewness"
   ]
  },
  {
   "cell_type": "code",
   "execution_count": 33,
   "id": "40887235",
   "metadata": {},
   "outputs": [],
   "source": [
    "colors = [\"olive\", \"maroon\"]"
   ]
  },
  {
   "cell_type": "code",
   "execution_count": 34,
   "id": "402117a4",
   "metadata": {},
   "outputs": [
    {
     "data": {
      "image/png": "[encoded data removed]",
      "text/plain": [
       "<Figure size 1296x360 with 2 Axes>"
      ]
     },
     "metadata": {
      "needs_background": "light"
     },
     "output_type": "display_data"
    }
   ],
   "source": [
    "clist = ['total_price', 'base_price']\n",
    "#color_list = ['plum', 'cornflowerblue', 'mediumspringgreen']\n",
    "plt.figure(figsize = (18, 5))\n",
    "plt.suptitle(\"Distribution Plots of continous features:\", fontsize=16)\n",
    "for i in range(0, len(clist)):\n",
    "    plt.subplot(1, 2, i+1)\n",
    "    sns.distplot(train_data1[clist[i]], color = colors[i])"
   ]
  },
  {
   "cell_type": "code",
   "execution_count": 35,
   "id": "fb6650ec",
   "metadata": {},
   "outputs": [
    {
     "data": {
      "text/plain": [
       "total_price    0.368554\n",
       "base_price     0.210979\n",
       "dtype: float64"
      ]
     },
     "execution_count": 35,
     "metadata": {},
     "output_type": "execute_result"
    }
   ],
   "source": [
    "train_data1.loc[:,'total_price':'base_price'].skew()"
   ]
  },
  {
   "cell_type": "markdown",
   "id": "3ff90ce0",
   "metadata": {},
   "source": [
    "The data is symmetric since the skewness is < 0.5"
   ]
  },
  {
   "cell_type": "markdown",
   "id": "df674f84",
   "metadata": {},
   "source": [
    "## HANDLING CATEGORICAL FEATURES"
   ]
  },
  {
   "cell_type": "code",
   "execution_count": 36,
   "id": "3c7200ea",
   "metadata": {},
   "outputs": [],
   "source": [
    "train_data2= train_data1.copy()"
   ]
  },
  {
   "cell_type": "code",
   "execution_count": 37,
   "id": "f01bd2d3",
   "metadata": {},
   "outputs": [
    {
     "data": {
      "text/plain": [
       "0    123290\n",
       "1      9737\n",
       "Name: is_featured_sku, dtype: int64"
      ]
     },
     "execution_count": 37,
     "metadata": {},
     "output_type": "execute_result"
    }
   ],
   "source": [
    "train_data2['is_featured_sku'].value_counts()"
   ]
  },
  {
   "cell_type": "code",
   "execution_count": 38,
   "id": "e5e3aafa",
   "metadata": {},
   "outputs": [
    {
     "data": {
      "text/plain": [
       "0    117124\n",
       "1     15903\n",
       "Name: is_display_sku, dtype: int64"
      ]
     },
     "execution_count": 38,
     "metadata": {},
     "output_type": "execute_result"
    }
   ],
   "source": [
    "train_data2['is_display_sku'].value_counts()"
   ]
  },
  {
   "cell_type": "markdown",
   "id": "996e2bfc",
   "metadata": {},
   "source": [
    "Features, 'is_featured_sku' and 'is_display_sku' are alreday encoded."
   ]
  },
  {
   "cell_type": "markdown",
   "id": "dfcdb863",
   "metadata": {},
   "source": [
    "### Encoding store_id's, sku_id's with top units_sold with 1 and remaing as 0. "
   ]
  },
  {
   "cell_type": "code",
   "execution_count": 39,
   "id": "5b69e336",
   "metadata": {},
   "outputs": [],
   "source": [
    "# Group the data by the 'store_id' column and calculate the sum of the 'units_sold' column\n",
    "units_sold_by_store = train_data2.groupby('store_id')['units_sold'].sum()\n",
    "\n",
    "# Sort the data in descending order by the sum of units sold\n",
    "units_sold_by_store_sorted = units_sold_by_store.sort_values(ascending=False)"
   ]
  },
  {
   "cell_type": "code",
   "execution_count": 40,
   "id": "98084018",
   "metadata": {},
   "outputs": [
    {
     "data": {
      "text/plain": [
       "store_id\n",
       "8023    273409\n",
       "9845    247358\n",
       "9823    217509\n",
       "9112    208630\n",
       "9613    190272\n",
       "8222    183178\n",
       "8095    181964\n",
       "9611    178998\n",
       "9250    157508\n",
       "9481    145946\n",
       "9961    145746\n",
       "8869    145664\n",
       "Name: units_sold, dtype: int64"
      ]
     },
     "execution_count": 40,
     "metadata": {},
     "output_type": "execute_result"
    }
   ],
   "source": [
    "units_sold_by_store_sorted.head(12)"
   ]
  },
  {
   "cell_type": "code",
   "execution_count": 41,
   "id": "29b2f9f9",
   "metadata": {},
   "outputs": [
    {
     "data": {
      "text/html": [
       "<div>\n",
       "<style scoped>\n",
       "    .dataframe tbody tr th:only-of-type {\n",
       "        vertical-align: middle;\n",
       "    }\n",
       "\n",
       "    .dataframe tbody tr th {\n",
       "        vertical-align: top;\n",
       "    }\n",
       "\n",
       "    .dataframe thead th {\n",
       "        text-align: right;\n",
       "    }\n",
       "</style>\n",
       "<table border=\"1\" class=\"dataframe\">\n",
       "  <thead>\n",
       "    <tr style=\"text-align: right;\">\n",
       "      <th></th>\n",
       "      <th>store_id</th>\n",
       "      <th>sku_id</th>\n",
       "      <th>total_price</th>\n",
       "      <th>base_price</th>\n",
       "      <th>is_featured_sku</th>\n",
       "      <th>is_display_sku</th>\n",
       "      <th>units_sold</th>\n",
       "      <th>year</th>\n",
       "      <th>month</th>\n",
       "      <th>day_name</th>\n",
       "      <th>week_number</th>\n",
       "    </tr>\n",
       "  </thead>\n",
       "  <tbody>\n",
       "    <tr>\n",
       "      <th>0</th>\n",
       "      <td>0</td>\n",
       "      <td>216418</td>\n",
       "      <td>99.0375</td>\n",
       "      <td>111.8625</td>\n",
       "      <td>0</td>\n",
       "      <td>0</td>\n",
       "      <td>20</td>\n",
       "      <td>2011</td>\n",
       "      <td>1</td>\n",
       "      <td>Monday</td>\n",
       "      <td>3</td>\n",
       "    </tr>\n",
       "    <tr>\n",
       "      <th>1</th>\n",
       "      <td>0</td>\n",
       "      <td>216419</td>\n",
       "      <td>99.0375</td>\n",
       "      <td>99.0375</td>\n",
       "      <td>0</td>\n",
       "      <td>0</td>\n",
       "      <td>28</td>\n",
       "      <td>2011</td>\n",
       "      <td>1</td>\n",
       "      <td>Monday</td>\n",
       "      <td>3</td>\n",
       "    </tr>\n",
       "    <tr>\n",
       "      <th>2</th>\n",
       "      <td>0</td>\n",
       "      <td>216425</td>\n",
       "      <td>133.9500</td>\n",
       "      <td>133.9500</td>\n",
       "      <td>0</td>\n",
       "      <td>0</td>\n",
       "      <td>19</td>\n",
       "      <td>2011</td>\n",
       "      <td>1</td>\n",
       "      <td>Monday</td>\n",
       "      <td>3</td>\n",
       "    </tr>\n",
       "    <tr>\n",
       "      <th>3</th>\n",
       "      <td>0</td>\n",
       "      <td>216233</td>\n",
       "      <td>133.9500</td>\n",
       "      <td>133.9500</td>\n",
       "      <td>0</td>\n",
       "      <td>0</td>\n",
       "      <td>44</td>\n",
       "      <td>2011</td>\n",
       "      <td>1</td>\n",
       "      <td>Monday</td>\n",
       "      <td>3</td>\n",
       "    </tr>\n",
       "    <tr>\n",
       "      <th>4</th>\n",
       "      <td>0</td>\n",
       "      <td>217390</td>\n",
       "      <td>141.0750</td>\n",
       "      <td>141.0750</td>\n",
       "      <td>0</td>\n",
       "      <td>0</td>\n",
       "      <td>52</td>\n",
       "      <td>2011</td>\n",
       "      <td>1</td>\n",
       "      <td>Monday</td>\n",
       "      <td>3</td>\n",
       "    </tr>\n",
       "  </tbody>\n",
       "</table>\n",
       "</div>"
      ],
      "text/plain": [
       "   store_id  sku_id  total_price  base_price  is_featured_sku  is_display_sku  \\\n",
       "0         0  216418      99.0375    111.8625                0               0   \n",
       "1         0  216419      99.0375     99.0375                0               0   \n",
       "2         0  216425     133.9500    133.9500                0               0   \n",
       "3         0  216233     133.9500    133.9500                0               0   \n",
       "4         0  217390     141.0750    141.0750                0               0   \n",
       "\n",
       "   units_sold  year month day_name week_number  \n",
       "0          20  2011     1   Monday           3  \n",
       "1          28  2011     1   Monday           3  \n",
       "2          19  2011     1   Monday           3  \n",
       "3          44  2011     1   Monday           3  \n",
       "4          52  2011     1   Monday           3  "
      ]
     },
     "execution_count": 41,
     "metadata": {},
     "output_type": "execute_result"
    }
   ],
   "source": [
    "# Select the top 10 store ID's\n",
    "top_10_store = units_sold_by_store_sorted.head(10).index\n",
    "\n",
    "# Replace the top 10 store ID's with 1 and rest with 0\n",
    "train_data2['store_id'] = train_data2['store_id'].apply(lambda x: 1 if x in top_10_store  else 0)\n",
    "\n",
    "# Display the resulting dataframe\n",
    "train_data2.head()"
   ]
  },
  {
   "cell_type": "code",
   "execution_count": 42,
   "id": "a708e67b",
   "metadata": {},
   "outputs": [
    {
     "data": {
      "text/plain": [
       "Index(['8023', '9845', '9823', '9112', '9613', '8222', '8095', '9611', '9250',\n",
       "       '9481'],\n",
       "      dtype='object', name='store_id')"
      ]
     },
     "execution_count": 42,
     "metadata": {},
     "output_type": "execute_result"
    }
   ],
   "source": [
    "top_10_store"
   ]
  },
  {
   "cell_type": "code",
   "execution_count": 43,
   "id": "79d51a2c",
   "metadata": {},
   "outputs": [
    {
     "data": {
      "text/plain": [
       "0    112487\n",
       "1     20540\n",
       "Name: store_id, dtype: int64"
      ]
     },
     "execution_count": 43,
     "metadata": {},
     "output_type": "execute_result"
    }
   ],
   "source": [
    "train_data2['store_id'].value_counts()"
   ]
  },
  {
   "cell_type": "code",
   "execution_count": 44,
   "id": "47d06c02",
   "metadata": {},
   "outputs": [],
   "source": [
    "# Group the data by the 'sku_id' column and calculate the sum of the 'units_sold' column\n",
    "units_sold_by_sku = train_data2.groupby('sku_id')['units_sold'].sum()\n",
    "\n",
    "# Sort the data in descending order by the sum of units sold\n",
    "units_sold_by_sku_sorted = units_sold_by_sku.sort_values(ascending=False)"
   ]
  },
  {
   "cell_type": "code",
   "execution_count": 45,
   "id": "2c1e3574",
   "metadata": {},
   "outputs": [
    {
     "data": {
      "text/plain": [
       "sku_id\n",
       "219009    964194\n",
       "216418    786087\n",
       "223245    650165\n",
       "216419    628711\n",
       "222087    601228\n",
       "Name: units_sold, dtype: int64"
      ]
     },
     "execution_count": 45,
     "metadata": {},
     "output_type": "execute_result"
    }
   ],
   "source": [
    "units_sold_by_sku_sorted.head(5)"
   ]
  },
  {
   "cell_type": "code",
   "execution_count": 46,
   "id": "98f62a8f",
   "metadata": {},
   "outputs": [
    {
     "data": {
      "text/html": [
       "<div>\n",
       "<style scoped>\n",
       "    .dataframe tbody tr th:only-of-type {\n",
       "        vertical-align: middle;\n",
       "    }\n",
       "\n",
       "    .dataframe tbody tr th {\n",
       "        vertical-align: top;\n",
       "    }\n",
       "\n",
       "    .dataframe thead th {\n",
       "        text-align: right;\n",
       "    }\n",
       "</style>\n",
       "<table border=\"1\" class=\"dataframe\">\n",
       "  <thead>\n",
       "    <tr style=\"text-align: right;\">\n",
       "      <th></th>\n",
       "      <th>store_id</th>\n",
       "      <th>sku_id</th>\n",
       "      <th>total_price</th>\n",
       "      <th>base_price</th>\n",
       "      <th>is_featured_sku</th>\n",
       "      <th>is_display_sku</th>\n",
       "      <th>units_sold</th>\n",
       "      <th>year</th>\n",
       "      <th>month</th>\n",
       "      <th>day_name</th>\n",
       "      <th>week_number</th>\n",
       "    </tr>\n",
       "  </thead>\n",
       "  <tbody>\n",
       "    <tr>\n",
       "      <th>0</th>\n",
       "      <td>0</td>\n",
       "      <td>1</td>\n",
       "      <td>99.0375</td>\n",
       "      <td>111.8625</td>\n",
       "      <td>0</td>\n",
       "      <td>0</td>\n",
       "      <td>20</td>\n",
       "      <td>2011</td>\n",
       "      <td>1</td>\n",
       "      <td>Monday</td>\n",
       "      <td>3</td>\n",
       "    </tr>\n",
       "    <tr>\n",
       "      <th>1</th>\n",
       "      <td>0</td>\n",
       "      <td>0</td>\n",
       "      <td>99.0375</td>\n",
       "      <td>99.0375</td>\n",
       "      <td>0</td>\n",
       "      <td>0</td>\n",
       "      <td>28</td>\n",
       "      <td>2011</td>\n",
       "      <td>1</td>\n",
       "      <td>Monday</td>\n",
       "      <td>3</td>\n",
       "    </tr>\n",
       "    <tr>\n",
       "      <th>2</th>\n",
       "      <td>0</td>\n",
       "      <td>0</td>\n",
       "      <td>133.9500</td>\n",
       "      <td>133.9500</td>\n",
       "      <td>0</td>\n",
       "      <td>0</td>\n",
       "      <td>19</td>\n",
       "      <td>2011</td>\n",
       "      <td>1</td>\n",
       "      <td>Monday</td>\n",
       "      <td>3</td>\n",
       "    </tr>\n",
       "    <tr>\n",
       "      <th>3</th>\n",
       "      <td>0</td>\n",
       "      <td>0</td>\n",
       "      <td>133.9500</td>\n",
       "      <td>133.9500</td>\n",
       "      <td>0</td>\n",
       "      <td>0</td>\n",
       "      <td>44</td>\n",
       "      <td>2011</td>\n",
       "      <td>1</td>\n",
       "      <td>Monday</td>\n",
       "      <td>3</td>\n",
       "    </tr>\n",
       "    <tr>\n",
       "      <th>4</th>\n",
       "      <td>0</td>\n",
       "      <td>0</td>\n",
       "      <td>141.0750</td>\n",
       "      <td>141.0750</td>\n",
       "      <td>0</td>\n",
       "      <td>0</td>\n",
       "      <td>52</td>\n",
       "      <td>2011</td>\n",
       "      <td>1</td>\n",
       "      <td>Monday</td>\n",
       "      <td>3</td>\n",
       "    </tr>\n",
       "  </tbody>\n",
       "</table>\n",
       "</div>"
      ],
      "text/plain": [
       "   store_id  sku_id  total_price  base_price  is_featured_sku  is_display_sku  \\\n",
       "0         0       1      99.0375    111.8625                0               0   \n",
       "1         0       0      99.0375     99.0375                0               0   \n",
       "2         0       0     133.9500    133.9500                0               0   \n",
       "3         0       0     133.9500    133.9500                0               0   \n",
       "4         0       0     141.0750    141.0750                0               0   \n",
       "\n",
       "   units_sold  year month day_name week_number  \n",
       "0          20  2011     1   Monday           3  \n",
       "1          28  2011     1   Monday           3  \n",
       "2          19  2011     1   Monday           3  \n",
       "3          44  2011     1   Monday           3  \n",
       "4          52  2011     1   Monday           3  "
      ]
     },
     "execution_count": 46,
     "metadata": {},
     "output_type": "execute_result"
    }
   ],
   "source": [
    "# Select the top 3 sku ID's\n",
    "top_3_sku = units_sold_by_sku_sorted.head(3).index\n",
    "\n",
    "# Replace the top 3 sku ID's with 1 and rest with 0\n",
    "train_data2['sku_id'] = train_data2['sku_id'].apply(lambda x: 1 if x in top_3_sku else 0)\n",
    "\n",
    "# Display the resulting dataframe\n",
    "train_data2.head()"
   ]
  },
  {
   "cell_type": "code",
   "execution_count": 47,
   "id": "bfc119ce",
   "metadata": {},
   "outputs": [
    {
     "data": {
      "text/plain": [
       "Index(['219009', '216418', '223245'], dtype='object', name='sku_id')"
      ]
     },
     "execution_count": 47,
     "metadata": {},
     "output_type": "execute_result"
    }
   ],
   "source": [
    "top_3_sku"
   ]
  },
  {
   "cell_type": "code",
   "execution_count": 48,
   "id": "9c3e3bc1",
   "metadata": {},
   "outputs": [
    {
     "data": {
      "text/plain": [
       "0    104947\n",
       "1     28080\n",
       "Name: sku_id, dtype: int64"
      ]
     },
     "execution_count": 48,
     "metadata": {},
     "output_type": "execute_result"
    }
   ],
   "source": [
    "train_data2['sku_id'].value_counts()"
   ]
  },
  {
   "cell_type": "markdown",
   "id": "a031d4a6",
   "metadata": {},
   "source": [
    "### Encoding top 'month' and 'week_number' w.r.t value_counts with 1 and rest with 0."
   ]
  },
  {
   "cell_type": "code",
   "execution_count": 49,
   "id": "f11f96bc",
   "metadata": {},
   "outputs": [
    {
     "data": {
      "text/plain": [
       "5    14323\n",
       "2    13309\n",
       "1    12285\n",
       "4    12277\n",
       "Name: month, dtype: int64"
      ]
     },
     "execution_count": 49,
     "metadata": {},
     "output_type": "execute_result"
    }
   ],
   "source": [
    "train_data2[\"month\"].value_counts().head(4)"
   ]
  },
  {
   "cell_type": "code",
   "execution_count": 50,
   "id": "0da74537",
   "metadata": {},
   "outputs": [],
   "source": [
    "top_months =[i for i in train_data2[\"month\"].value_counts().head(2).index ]"
   ]
  },
  {
   "cell_type": "code",
   "execution_count": 51,
   "id": "4d4a147d",
   "metadata": {},
   "outputs": [],
   "source": [
    "train_data2['month'] = train_data2['month'].apply(lambda x: 1 if x in top_months else 0)"
   ]
  },
  {
   "cell_type": "code",
   "execution_count": 52,
   "id": "08f1c208",
   "metadata": {},
   "outputs": [
    {
     "data": {
      "text/plain": [
       "0    105395\n",
       "1     27632\n",
       "Name: month, dtype: int64"
      ]
     },
     "execution_count": 52,
     "metadata": {},
     "output_type": "execute_result"
    }
   ],
   "source": [
    "train_data2[\"month\"].value_counts()"
   ]
  },
  {
   "cell_type": "code",
   "execution_count": 53,
   "id": "6c5e3623",
   "metadata": {},
   "outputs": [
    {
     "data": {
      "text/plain": [
       "26    5122\n",
       "5     5118\n",
       "22    5116\n",
       "9     4095\n",
       "49    4092\n",
       "18    4092\n",
       "4     3072\n",
       "Name: week_number, dtype: int64"
      ]
     },
     "execution_count": 53,
     "metadata": {},
     "output_type": "execute_result"
    }
   ],
   "source": [
    "train_data2[\"week_number\"].value_counts().head(7)"
   ]
  },
  {
   "cell_type": "code",
   "execution_count": 54,
   "id": "f9047a18",
   "metadata": {},
   "outputs": [],
   "source": [
    "top_week_numbers =[i for i in train_data2[\"week_number\"].value_counts().head(4).index ]"
   ]
  },
  {
   "cell_type": "code",
   "execution_count": 55,
   "id": "f0425ee4",
   "metadata": {},
   "outputs": [],
   "source": [
    "train_data2['week_number'] = train_data2['week_number'].apply(lambda x: 1 if x in top_week_numbers else 0)"
   ]
  },
  {
   "cell_type": "code",
   "execution_count": 56,
   "id": "8255c13f",
   "metadata": {},
   "outputs": [
    {
     "data": {
      "text/plain": [
       "0    113576\n",
       "1     19451\n",
       "Name: week_number, dtype: int64"
      ]
     },
     "execution_count": 56,
     "metadata": {},
     "output_type": "execute_result"
    }
   ],
   "source": [
    "train_data2[\"week_number\"].value_counts()"
   ]
  },
  {
   "cell_type": "markdown",
   "id": "392bd3bb",
   "metadata": {},
   "source": [
    "### One-Hot Encoding"
   ]
  },
  {
   "cell_type": "markdown",
   "id": "0e021748",
   "metadata": {},
   "source": [
    "Encoding 'year' and 'day_name' features by one-hot encoding"
   ]
  },
  {
   "cell_type": "code",
   "execution_count": 57,
   "id": "89700625",
   "metadata": {},
   "outputs": [],
   "source": [
    "En_train_data = pd.get_dummies(train_data2, prefix=['year', \"day_name\"], columns = ['year', \"day_name\"])"
   ]
  },
  {
   "cell_type": "code",
   "execution_count": 58,
   "id": "8248c64b",
   "metadata": {},
   "outputs": [],
   "source": [
    "pd.set_option(\"display.max_columns\",None)"
   ]
  },
  {
   "cell_type": "code",
   "execution_count": 59,
   "id": "0b4a4c5f",
   "metadata": {},
   "outputs": [
    {
     "data": {
      "text/html": [
       "<div>\n",
       "<style scoped>\n",
       "    .dataframe tbody tr th:only-of-type {\n",
       "        vertical-align: middle;\n",
       "    }\n",
       "\n",
       "    .dataframe tbody tr th {\n",
       "        vertical-align: top;\n",
       "    }\n",
       "\n",
       "    .dataframe thead th {\n",
       "        text-align: right;\n",
       "    }\n",
       "</style>\n",
       "<table border=\"1\" class=\"dataframe\">\n",
       "  <thead>\n",
       "    <tr style=\"text-align: right;\">\n",
       "      <th></th>\n",
       "      <th>store_id</th>\n",
       "      <th>sku_id</th>\n",
       "      <th>total_price</th>\n",
       "      <th>base_price</th>\n",
       "      <th>is_featured_sku</th>\n",
       "      <th>is_display_sku</th>\n",
       "      <th>units_sold</th>\n",
       "      <th>month</th>\n",
       "      <th>week_number</th>\n",
       "      <th>year_2011</th>\n",
       "      <th>year_2012</th>\n",
       "      <th>year_2013</th>\n",
       "      <th>day_name_Friday</th>\n",
       "      <th>day_name_Monday</th>\n",
       "      <th>day_name_Saturday</th>\n",
       "      <th>day_name_Sunday</th>\n",
       "      <th>day_name_Thursday</th>\n",
       "      <th>day_name_Tuesday</th>\n",
       "      <th>day_name_Wednesday</th>\n",
       "    </tr>\n",
       "  </thead>\n",
       "  <tbody>\n",
       "    <tr>\n",
       "      <th>0</th>\n",
       "      <td>0</td>\n",
       "      <td>1</td>\n",
       "      <td>99.0375</td>\n",
       "      <td>111.8625</td>\n",
       "      <td>0</td>\n",
       "      <td>0</td>\n",
       "      <td>20</td>\n",
       "      <td>0</td>\n",
       "      <td>0</td>\n",
       "      <td>1</td>\n",
       "      <td>0</td>\n",
       "      <td>0</td>\n",
       "      <td>0</td>\n",
       "      <td>1</td>\n",
       "      <td>0</td>\n",
       "      <td>0</td>\n",
       "      <td>0</td>\n",
       "      <td>0</td>\n",
       "      <td>0</td>\n",
       "    </tr>\n",
       "    <tr>\n",
       "      <th>1</th>\n",
       "      <td>0</td>\n",
       "      <td>0</td>\n",
       "      <td>99.0375</td>\n",
       "      <td>99.0375</td>\n",
       "      <td>0</td>\n",
       "      <td>0</td>\n",
       "      <td>28</td>\n",
       "      <td>0</td>\n",
       "      <td>0</td>\n",
       "      <td>1</td>\n",
       "      <td>0</td>\n",
       "      <td>0</td>\n",
       "      <td>0</td>\n",
       "      <td>1</td>\n",
       "      <td>0</td>\n",
       "      <td>0</td>\n",
       "      <td>0</td>\n",
       "      <td>0</td>\n",
       "      <td>0</td>\n",
       "    </tr>\n",
       "    <tr>\n",
       "      <th>2</th>\n",
       "      <td>0</td>\n",
       "      <td>0</td>\n",
       "      <td>133.9500</td>\n",
       "      <td>133.9500</td>\n",
       "      <td>0</td>\n",
       "      <td>0</td>\n",
       "      <td>19</td>\n",
       "      <td>0</td>\n",
       "      <td>0</td>\n",
       "      <td>1</td>\n",
       "      <td>0</td>\n",
       "      <td>0</td>\n",
       "      <td>0</td>\n",
       "      <td>1</td>\n",
       "      <td>0</td>\n",
       "      <td>0</td>\n",
       "      <td>0</td>\n",
       "      <td>0</td>\n",
       "      <td>0</td>\n",
       "    </tr>\n",
       "    <tr>\n",
       "      <th>3</th>\n",
       "      <td>0</td>\n",
       "      <td>0</td>\n",
       "      <td>133.9500</td>\n",
       "      <td>133.9500</td>\n",
       "      <td>0</td>\n",
       "      <td>0</td>\n",
       "      <td>44</td>\n",
       "      <td>0</td>\n",
       "      <td>0</td>\n",
       "      <td>1</td>\n",
       "      <td>0</td>\n",
       "      <td>0</td>\n",
       "      <td>0</td>\n",
       "      <td>1</td>\n",
       "      <td>0</td>\n",
       "      <td>0</td>\n",
       "      <td>0</td>\n",
       "      <td>0</td>\n",
       "      <td>0</td>\n",
       "    </tr>\n",
       "    <tr>\n",
       "      <th>4</th>\n",
       "      <td>0</td>\n",
       "      <td>0</td>\n",
       "      <td>141.0750</td>\n",
       "      <td>141.0750</td>\n",
       "      <td>0</td>\n",
       "      <td>0</td>\n",
       "      <td>52</td>\n",
       "      <td>0</td>\n",
       "      <td>0</td>\n",
       "      <td>1</td>\n",
       "      <td>0</td>\n",
       "      <td>0</td>\n",
       "      <td>0</td>\n",
       "      <td>1</td>\n",
       "      <td>0</td>\n",
       "      <td>0</td>\n",
       "      <td>0</td>\n",
       "      <td>0</td>\n",
       "      <td>0</td>\n",
       "    </tr>\n",
       "  </tbody>\n",
       "</table>\n",
       "</div>"
      ],
      "text/plain": [
       "   store_id  sku_id  total_price  base_price  is_featured_sku  is_display_sku  \\\n",
       "0         0       1      99.0375    111.8625                0               0   \n",
       "1         0       0      99.0375     99.0375                0               0   \n",
       "2         0       0     133.9500    133.9500                0               0   \n",
       "3         0       0     133.9500    133.9500                0               0   \n",
       "4         0       0     141.0750    141.0750                0               0   \n",
       "\n",
       "   units_sold  month  week_number  year_2011  year_2012  year_2013  \\\n",
       "0          20      0            0          1          0          0   \n",
       "1          28      0            0          1          0          0   \n",
       "2          19      0            0          1          0          0   \n",
       "3          44      0            0          1          0          0   \n",
       "4          52      0            0          1          0          0   \n",
       "\n",
       "   day_name_Friday  day_name_Monday  day_name_Saturday  day_name_Sunday  \\\n",
       "0                0                1                  0                0   \n",
       "1                0                1                  0                0   \n",
       "2                0                1                  0                0   \n",
       "3                0                1                  0                0   \n",
       "4                0                1                  0                0   \n",
       "\n",
       "   day_name_Thursday  day_name_Tuesday  day_name_Wednesday  \n",
       "0                  0                 0                   0  \n",
       "1                  0                 0                   0  \n",
       "2                  0                 0                   0  \n",
       "3                  0                 0                   0  \n",
       "4                  0                 0                   0  "
      ]
     },
     "execution_count": 59,
     "metadata": {},
     "output_type": "execute_result"
    }
   ],
   "source": [
    "En_train_data.head()"
   ]
  },
  {
   "cell_type": "markdown",
   "id": "f7ded6a7",
   "metadata": {},
   "source": [
    "### Encoding in test data"
   ]
  },
  {
   "cell_type": "code",
   "execution_count": 60,
   "id": "f7ccd628",
   "metadata": {},
   "outputs": [],
   "source": [
    "test_data1 = test_data.copy()"
   ]
  },
  {
   "cell_type": "markdown",
   "id": "6070c2cc",
   "metadata": {},
   "source": [
    "Replacing the top store_id, sku_id, day from train data with 1 and rest with 0 in test data aswell"
   ]
  },
  {
   "cell_type": "code",
   "execution_count": 61,
   "id": "6e701efe",
   "metadata": {},
   "outputs": [
    {
     "name": "stdout",
     "output_type": "stream",
     "text": [
      "<class 'pandas.core.frame.DataFrame'>\n",
      "RangeIndex: 13860 entries, 0 to 13859\n",
      "Data columns (total 10 columns):\n",
      " #   Column           Non-Null Count  Dtype  \n",
      "---  ------           --------------  -----  \n",
      " 0   store_id         13860 non-null  object \n",
      " 1   sku_id           13860 non-null  object \n",
      " 2   total_price      13860 non-null  float64\n",
      " 3   base_price       13860 non-null  float64\n",
      " 4   is_featured_sku  13860 non-null  int64  \n",
      " 5   is_display_sku   13860 non-null  int64  \n",
      " 6   year             13860 non-null  object \n",
      " 7   month            13860 non-null  object \n",
      " 8   day_name         13860 non-null  object \n",
      " 9   week_number      13860 non-null  object \n",
      "dtypes: float64(2), int64(2), object(6)\n",
      "memory usage: 1.1+ MB\n"
     ]
    }
   ],
   "source": [
    "test_data1.info()"
   ]
  },
  {
   "cell_type": "code",
   "execution_count": 62,
   "id": "668678c1",
   "metadata": {},
   "outputs": [],
   "source": [
    "test_data1.loc[~test_data1['store_id'].isin(['8023', '9845', '9823', '9112', '9613', '8222', '8095', '9611', '9250','9481']), 'store_id'] = 0"
   ]
  },
  {
   "cell_type": "code",
   "execution_count": 63,
   "id": "241aeb2e",
   "metadata": {},
   "outputs": [],
   "source": [
    "test_data1.loc[test_data1['store_id'].isin(['8023', '9845', '9823', '9112', '9613', '8222', '8095', '9611', '9250','9481']), 'store_id'] = 1"
   ]
  },
  {
   "cell_type": "code",
   "execution_count": 64,
   "id": "cc30faa7",
   "metadata": {
    "scrolled": true
   },
   "outputs": [
    {
     "data": {
      "text/plain": [
       "0    11652\n",
       "1     2208\n",
       "Name: store_id, dtype: int64"
      ]
     },
     "execution_count": 64,
     "metadata": {},
     "output_type": "execute_result"
    }
   ],
   "source": [
    "test_data1[\"store_id\"].value_counts()"
   ]
  },
  {
   "cell_type": "code",
   "execution_count": 65,
   "id": "467740e1",
   "metadata": {},
   "outputs": [],
   "source": [
    "test_data1.loc[~test_data1['sku_id'].isin(['219009', '216418', '223245']), 'sku_id'] = 0"
   ]
  },
  {
   "cell_type": "code",
   "execution_count": 66,
   "id": "820c9441",
   "metadata": {},
   "outputs": [],
   "source": [
    "test_data1.loc[test_data1['sku_id'].isin(['219009', '216418', '223245']), 'sku_id'] = 1"
   ]
  },
  {
   "cell_type": "code",
   "execution_count": 67,
   "id": "0641b005",
   "metadata": {
    "scrolled": true
   },
   "outputs": [
    {
     "data": {
      "text/plain": [
       "0    11268\n",
       "1     2592\n",
       "Name: sku_id, dtype: int64"
      ]
     },
     "execution_count": 67,
     "metadata": {},
     "output_type": "execute_result"
    }
   ],
   "source": [
    "test_data1[\"sku_id\"].value_counts()"
   ]
  },
  {
   "cell_type": "markdown",
   "id": "8c815b36",
   "metadata": {},
   "source": [
    "Encoding almost same percent of row_names in month and week_number features of test data with 1, as that is encoded in train data and rest with 0. "
   ]
  },
  {
   "cell_type": "code",
   "execution_count": 68,
   "id": "197617ef",
   "metadata": {},
   "outputs": [
    {
     "data": {
      "text/plain": [
       "7     3465\n",
       "8     3465\n",
       "9     2310\n",
       "6     1155\n",
       "3     1155\n",
       "10    1155\n",
       "1     1155\n",
       "Name: month, dtype: int64"
      ]
     },
     "execution_count": 68,
     "metadata": {},
     "output_type": "execute_result"
    }
   ],
   "source": [
    "test_data1[\"month\"].value_counts()"
   ]
  },
  {
   "cell_type": "code",
   "execution_count": 69,
   "id": "f6c93ca4",
   "metadata": {},
   "outputs": [],
   "source": [
    "top_months =[i for i in test_data1[\"month\"].value_counts().head(1).index ]"
   ]
  },
  {
   "cell_type": "code",
   "execution_count": 70,
   "id": "8e4c4f19",
   "metadata": {},
   "outputs": [],
   "source": [
    "test_data1['month'] = test_data1['month'].apply(lambda x: 1 if x in top_months else 0)"
   ]
  },
  {
   "cell_type": "code",
   "execution_count": 71,
   "id": "127ea189",
   "metadata": {},
   "outputs": [
    {
     "data": {
      "text/plain": [
       "0    10395\n",
       "1     3465\n",
       "Name: month, dtype: int64"
      ]
     },
     "execution_count": 71,
     "metadata": {},
     "output_type": "execute_result"
    }
   ],
   "source": [
    "test_data1[\"month\"].value_counts()"
   ]
  },
  {
   "cell_type": "code",
   "execution_count": 72,
   "id": "1071e945",
   "metadata": {},
   "outputs": [],
   "source": [
    "test_data1.loc[~test_data1['week_number'].isin(['35', '29']), 'week_number'] = 0"
   ]
  },
  {
   "cell_type": "code",
   "execution_count": 73,
   "id": "d49deee1",
   "metadata": {},
   "outputs": [],
   "source": [
    "test_data1.loc[test_data1['week_number'].isin(['35', '29']), 'week_number'] = 1"
   ]
  },
  {
   "cell_type": "code",
   "execution_count": 74,
   "id": "c2733c02",
   "metadata": {},
   "outputs": [
    {
     "data": {
      "text/plain": [
       "0    11550\n",
       "1     2310\n",
       "Name: week_number, dtype: int64"
      ]
     },
     "execution_count": 74,
     "metadata": {},
     "output_type": "execute_result"
    }
   ],
   "source": [
    "test_data1[\"week_number\"].value_counts()"
   ]
  },
  {
   "cell_type": "markdown",
   "id": "e08d5949",
   "metadata": {},
   "source": [
    "For year and day_name features doing one-hot encoding as done in train data."
   ]
  },
  {
   "cell_type": "code",
   "execution_count": 75,
   "id": "e285252f",
   "metadata": {},
   "outputs": [],
   "source": [
    "En_test_data = pd.get_dummies(test_data1, prefix=['year', 'day_name'], columns = ['year', 'day_name'])"
   ]
  },
  {
   "cell_type": "code",
   "execution_count": 76,
   "id": "00c9e621",
   "metadata": {},
   "outputs": [
    {
     "data": {
      "text/html": [
       "<div>\n",
       "<style scoped>\n",
       "    .dataframe tbody tr th:only-of-type {\n",
       "        vertical-align: middle;\n",
       "    }\n",
       "\n",
       "    .dataframe tbody tr th {\n",
       "        vertical-align: top;\n",
       "    }\n",
       "\n",
       "    .dataframe thead th {\n",
       "        text-align: right;\n",
       "    }\n",
       "</style>\n",
       "<table border=\"1\" class=\"dataframe\">\n",
       "  <thead>\n",
       "    <tr style=\"text-align: right;\">\n",
       "      <th></th>\n",
       "      <th>store_id</th>\n",
       "      <th>sku_id</th>\n",
       "      <th>total_price</th>\n",
       "      <th>base_price</th>\n",
       "      <th>is_featured_sku</th>\n",
       "      <th>is_display_sku</th>\n",
       "      <th>month</th>\n",
       "      <th>week_number</th>\n",
       "      <th>year_2013</th>\n",
       "      <th>day_name_Saturday</th>\n",
       "      <th>day_name_Thursday</th>\n",
       "      <th>day_name_Tuesday</th>\n",
       "      <th>day_name_Wednesday</th>\n",
       "    </tr>\n",
       "  </thead>\n",
       "  <tbody>\n",
       "    <tr>\n",
       "      <th>0</th>\n",
       "      <td>0</td>\n",
       "      <td>1</td>\n",
       "      <td>108.3000</td>\n",
       "      <td>108.3000</td>\n",
       "      <td>0</td>\n",
       "      <td>0</td>\n",
       "      <td>1</td>\n",
       "      <td>1</td>\n",
       "      <td>1</td>\n",
       "      <td>0</td>\n",
       "      <td>0</td>\n",
       "      <td>1</td>\n",
       "      <td>0</td>\n",
       "    </tr>\n",
       "    <tr>\n",
       "      <th>1</th>\n",
       "      <td>0</td>\n",
       "      <td>0</td>\n",
       "      <td>109.0125</td>\n",
       "      <td>109.0125</td>\n",
       "      <td>0</td>\n",
       "      <td>0</td>\n",
       "      <td>1</td>\n",
       "      <td>1</td>\n",
       "      <td>1</td>\n",
       "      <td>0</td>\n",
       "      <td>0</td>\n",
       "      <td>1</td>\n",
       "      <td>0</td>\n",
       "    </tr>\n",
       "    <tr>\n",
       "      <th>2</th>\n",
       "      <td>0</td>\n",
       "      <td>0</td>\n",
       "      <td>133.9500</td>\n",
       "      <td>133.9500</td>\n",
       "      <td>0</td>\n",
       "      <td>0</td>\n",
       "      <td>1</td>\n",
       "      <td>1</td>\n",
       "      <td>1</td>\n",
       "      <td>0</td>\n",
       "      <td>0</td>\n",
       "      <td>1</td>\n",
       "      <td>0</td>\n",
       "    </tr>\n",
       "    <tr>\n",
       "      <th>3</th>\n",
       "      <td>0</td>\n",
       "      <td>0</td>\n",
       "      <td>133.9500</td>\n",
       "      <td>133.9500</td>\n",
       "      <td>0</td>\n",
       "      <td>0</td>\n",
       "      <td>1</td>\n",
       "      <td>1</td>\n",
       "      <td>1</td>\n",
       "      <td>0</td>\n",
       "      <td>0</td>\n",
       "      <td>1</td>\n",
       "      <td>0</td>\n",
       "    </tr>\n",
       "    <tr>\n",
       "      <th>4</th>\n",
       "      <td>0</td>\n",
       "      <td>0</td>\n",
       "      <td>176.7000</td>\n",
       "      <td>176.7000</td>\n",
       "      <td>0</td>\n",
       "      <td>0</td>\n",
       "      <td>1</td>\n",
       "      <td>1</td>\n",
       "      <td>1</td>\n",
       "      <td>0</td>\n",
       "      <td>0</td>\n",
       "      <td>1</td>\n",
       "      <td>0</td>\n",
       "    </tr>\n",
       "  </tbody>\n",
       "</table>\n",
       "</div>"
      ],
      "text/plain": [
       "  store_id sku_id  total_price  base_price  is_featured_sku  is_display_sku  \\\n",
       "0        0      1     108.3000    108.3000                0               0   \n",
       "1        0      0     109.0125    109.0125                0               0   \n",
       "2        0      0     133.9500    133.9500                0               0   \n",
       "3        0      0     133.9500    133.9500                0               0   \n",
       "4        0      0     176.7000    176.7000                0               0   \n",
       "\n",
       "   month week_number  year_2013  day_name_Saturday  day_name_Thursday  \\\n",
       "0      1           1          1                  0                  0   \n",
       "1      1           1          1                  0                  0   \n",
       "2      1           1          1                  0                  0   \n",
       "3      1           1          1                  0                  0   \n",
       "4      1           1          1                  0                  0   \n",
       "\n",
       "   day_name_Tuesday  day_name_Wednesday  \n",
       "0                 1                   0  \n",
       "1                 1                   0  \n",
       "2                 1                   0  \n",
       "3                 1                   0  \n",
       "4                 1                   0  "
      ]
     },
     "execution_count": 76,
     "metadata": {},
     "output_type": "execute_result"
    }
   ],
   "source": [
    "En_test_data.head()"
   ]
  },
  {
   "cell_type": "code",
   "execution_count": 77,
   "id": "799a118c",
   "metadata": {
    "scrolled": true
   },
   "outputs": [
    {
     "data": {
      "text/html": [
       "<div>\n",
       "<style scoped>\n",
       "    .dataframe tbody tr th:only-of-type {\n",
       "        vertical-align: middle;\n",
       "    }\n",
       "\n",
       "    .dataframe tbody tr th {\n",
       "        vertical-align: top;\n",
       "    }\n",
       "\n",
       "    .dataframe thead th {\n",
       "        text-align: right;\n",
       "    }\n",
       "</style>\n",
       "<table border=\"1\" class=\"dataframe\">\n",
       "  <thead>\n",
       "    <tr style=\"text-align: right;\">\n",
       "      <th></th>\n",
       "      <th>store_id</th>\n",
       "      <th>sku_id</th>\n",
       "      <th>total_price</th>\n",
       "      <th>base_price</th>\n",
       "      <th>is_featured_sku</th>\n",
       "      <th>is_display_sku</th>\n",
       "      <th>units_sold</th>\n",
       "      <th>month</th>\n",
       "      <th>week_number</th>\n",
       "      <th>year_2011</th>\n",
       "      <th>year_2012</th>\n",
       "      <th>year_2013</th>\n",
       "      <th>day_name_Friday</th>\n",
       "      <th>day_name_Monday</th>\n",
       "      <th>day_name_Saturday</th>\n",
       "      <th>day_name_Sunday</th>\n",
       "      <th>day_name_Thursday</th>\n",
       "      <th>day_name_Tuesday</th>\n",
       "      <th>day_name_Wednesday</th>\n",
       "    </tr>\n",
       "  </thead>\n",
       "  <tbody>\n",
       "    <tr>\n",
       "      <th>0</th>\n",
       "      <td>0</td>\n",
       "      <td>1</td>\n",
       "      <td>99.0375</td>\n",
       "      <td>111.8625</td>\n",
       "      <td>0</td>\n",
       "      <td>0</td>\n",
       "      <td>20</td>\n",
       "      <td>0</td>\n",
       "      <td>0</td>\n",
       "      <td>1</td>\n",
       "      <td>0</td>\n",
       "      <td>0</td>\n",
       "      <td>0</td>\n",
       "      <td>1</td>\n",
       "      <td>0</td>\n",
       "      <td>0</td>\n",
       "      <td>0</td>\n",
       "      <td>0</td>\n",
       "      <td>0</td>\n",
       "    </tr>\n",
       "    <tr>\n",
       "      <th>1</th>\n",
       "      <td>0</td>\n",
       "      <td>0</td>\n",
       "      <td>99.0375</td>\n",
       "      <td>99.0375</td>\n",
       "      <td>0</td>\n",
       "      <td>0</td>\n",
       "      <td>28</td>\n",
       "      <td>0</td>\n",
       "      <td>0</td>\n",
       "      <td>1</td>\n",
       "      <td>0</td>\n",
       "      <td>0</td>\n",
       "      <td>0</td>\n",
       "      <td>1</td>\n",
       "      <td>0</td>\n",
       "      <td>0</td>\n",
       "      <td>0</td>\n",
       "      <td>0</td>\n",
       "      <td>0</td>\n",
       "    </tr>\n",
       "    <tr>\n",
       "      <th>2</th>\n",
       "      <td>0</td>\n",
       "      <td>0</td>\n",
       "      <td>133.9500</td>\n",
       "      <td>133.9500</td>\n",
       "      <td>0</td>\n",
       "      <td>0</td>\n",
       "      <td>19</td>\n",
       "      <td>0</td>\n",
       "      <td>0</td>\n",
       "      <td>1</td>\n",
       "      <td>0</td>\n",
       "      <td>0</td>\n",
       "      <td>0</td>\n",
       "      <td>1</td>\n",
       "      <td>0</td>\n",
       "      <td>0</td>\n",
       "      <td>0</td>\n",
       "      <td>0</td>\n",
       "      <td>0</td>\n",
       "    </tr>\n",
       "    <tr>\n",
       "      <th>3</th>\n",
       "      <td>0</td>\n",
       "      <td>0</td>\n",
       "      <td>133.9500</td>\n",
       "      <td>133.9500</td>\n",
       "      <td>0</td>\n",
       "      <td>0</td>\n",
       "      <td>44</td>\n",
       "      <td>0</td>\n",
       "      <td>0</td>\n",
       "      <td>1</td>\n",
       "      <td>0</td>\n",
       "      <td>0</td>\n",
       "      <td>0</td>\n",
       "      <td>1</td>\n",
       "      <td>0</td>\n",
       "      <td>0</td>\n",
       "      <td>0</td>\n",
       "      <td>0</td>\n",
       "      <td>0</td>\n",
       "    </tr>\n",
       "    <tr>\n",
       "      <th>4</th>\n",
       "      <td>0</td>\n",
       "      <td>0</td>\n",
       "      <td>141.0750</td>\n",
       "      <td>141.0750</td>\n",
       "      <td>0</td>\n",
       "      <td>0</td>\n",
       "      <td>52</td>\n",
       "      <td>0</td>\n",
       "      <td>0</td>\n",
       "      <td>1</td>\n",
       "      <td>0</td>\n",
       "      <td>0</td>\n",
       "      <td>0</td>\n",
       "      <td>1</td>\n",
       "      <td>0</td>\n",
       "      <td>0</td>\n",
       "      <td>0</td>\n",
       "      <td>0</td>\n",
       "      <td>0</td>\n",
       "    </tr>\n",
       "  </tbody>\n",
       "</table>\n",
       "</div>"
      ],
      "text/plain": [
       "   store_id  sku_id  total_price  base_price  is_featured_sku  is_display_sku  \\\n",
       "0         0       1      99.0375    111.8625                0               0   \n",
       "1         0       0      99.0375     99.0375                0               0   \n",
       "2         0       0     133.9500    133.9500                0               0   \n",
       "3         0       0     133.9500    133.9500                0               0   \n",
       "4         0       0     141.0750    141.0750                0               0   \n",
       "\n",
       "   units_sold  month  week_number  year_2011  year_2012  year_2013  \\\n",
       "0          20      0            0          1          0          0   \n",
       "1          28      0            0          1          0          0   \n",
       "2          19      0            0          1          0          0   \n",
       "3          44      0            0          1          0          0   \n",
       "4          52      0            0          1          0          0   \n",
       "\n",
       "   day_name_Friday  day_name_Monday  day_name_Saturday  day_name_Sunday  \\\n",
       "0                0                1                  0                0   \n",
       "1                0                1                  0                0   \n",
       "2                0                1                  0                0   \n",
       "3                0                1                  0                0   \n",
       "4                0                1                  0                0   \n",
       "\n",
       "   day_name_Thursday  day_name_Tuesday  day_name_Wednesday  \n",
       "0                  0                 0                   0  \n",
       "1                  0                 0                   0  \n",
       "2                  0                 0                   0  \n",
       "3                  0                 0                   0  \n",
       "4                  0                 0                   0  "
      ]
     },
     "execution_count": 77,
     "metadata": {},
     "output_type": "execute_result"
    }
   ],
   "source": [
    "En_train_data.head()"
   ]
  },
  {
   "cell_type": "markdown",
   "id": "bdad373c",
   "metadata": {},
   "source": [
    "Adding encoded features which are in train data but not in test data to test data aswell, so that while nunning them in model we'll have same features in exact same order in both train and test data."
   ]
  },
  {
   "cell_type": "code",
   "execution_count": 78,
   "id": "243e4245",
   "metadata": {},
   "outputs": [],
   "source": [
    "En_test_data.insert(8, 'year_2011', 0)\n",
    "En_test_data.insert(9, 'year_2012', 0)\n",
    "En_test_data.insert(11, 'day_name_Friday', 0)\n",
    "En_test_data.insert(12, 'day_name_Monday', 0)\n",
    "En_test_data.insert(14, 'day_name_Sunday', 0)"
   ]
  },
  {
   "cell_type": "code",
   "execution_count": 79,
   "id": "d0acb5b1",
   "metadata": {},
   "outputs": [
    {
     "data": {
      "text/html": [
       "<div>\n",
       "<style scoped>\n",
       "    .dataframe tbody tr th:only-of-type {\n",
       "        vertical-align: middle;\n",
       "    }\n",
       "\n",
       "    .dataframe tbody tr th {\n",
       "        vertical-align: top;\n",
       "    }\n",
       "\n",
       "    .dataframe thead th {\n",
       "        text-align: right;\n",
       "    }\n",
       "</style>\n",
       "<table border=\"1\" class=\"dataframe\">\n",
       "  <thead>\n",
       "    <tr style=\"text-align: right;\">\n",
       "      <th></th>\n",
       "      <th>store_id</th>\n",
       "      <th>sku_id</th>\n",
       "      <th>total_price</th>\n",
       "      <th>base_price</th>\n",
       "      <th>is_featured_sku</th>\n",
       "      <th>is_display_sku</th>\n",
       "      <th>month</th>\n",
       "      <th>week_number</th>\n",
       "      <th>year_2011</th>\n",
       "      <th>year_2012</th>\n",
       "      <th>year_2013</th>\n",
       "      <th>day_name_Friday</th>\n",
       "      <th>day_name_Monday</th>\n",
       "      <th>day_name_Saturday</th>\n",
       "      <th>day_name_Sunday</th>\n",
       "      <th>day_name_Thursday</th>\n",
       "      <th>day_name_Tuesday</th>\n",
       "      <th>day_name_Wednesday</th>\n",
       "    </tr>\n",
       "  </thead>\n",
       "  <tbody>\n",
       "    <tr>\n",
       "      <th>0</th>\n",
       "      <td>0</td>\n",
       "      <td>1</td>\n",
       "      <td>108.3000</td>\n",
       "      <td>108.3000</td>\n",
       "      <td>0</td>\n",
       "      <td>0</td>\n",
       "      <td>1</td>\n",
       "      <td>1</td>\n",
       "      <td>0</td>\n",
       "      <td>0</td>\n",
       "      <td>1</td>\n",
       "      <td>0</td>\n",
       "      <td>0</td>\n",
       "      <td>0</td>\n",
       "      <td>0</td>\n",
       "      <td>0</td>\n",
       "      <td>1</td>\n",
       "      <td>0</td>\n",
       "    </tr>\n",
       "    <tr>\n",
       "      <th>1</th>\n",
       "      <td>0</td>\n",
       "      <td>0</td>\n",
       "      <td>109.0125</td>\n",
       "      <td>109.0125</td>\n",
       "      <td>0</td>\n",
       "      <td>0</td>\n",
       "      <td>1</td>\n",
       "      <td>1</td>\n",
       "      <td>0</td>\n",
       "      <td>0</td>\n",
       "      <td>1</td>\n",
       "      <td>0</td>\n",
       "      <td>0</td>\n",
       "      <td>0</td>\n",
       "      <td>0</td>\n",
       "      <td>0</td>\n",
       "      <td>1</td>\n",
       "      <td>0</td>\n",
       "    </tr>\n",
       "    <tr>\n",
       "      <th>2</th>\n",
       "      <td>0</td>\n",
       "      <td>0</td>\n",
       "      <td>133.9500</td>\n",
       "      <td>133.9500</td>\n",
       "      <td>0</td>\n",
       "      <td>0</td>\n",
       "      <td>1</td>\n",
       "      <td>1</td>\n",
       "      <td>0</td>\n",
       "      <td>0</td>\n",
       "      <td>1</td>\n",
       "      <td>0</td>\n",
       "      <td>0</td>\n",
       "      <td>0</td>\n",
       "      <td>0</td>\n",
       "      <td>0</td>\n",
       "      <td>1</td>\n",
       "      <td>0</td>\n",
       "    </tr>\n",
       "    <tr>\n",
       "      <th>3</th>\n",
       "      <td>0</td>\n",
       "      <td>0</td>\n",
       "      <td>133.9500</td>\n",
       "      <td>133.9500</td>\n",
       "      <td>0</td>\n",
       "      <td>0</td>\n",
       "      <td>1</td>\n",
       "      <td>1</td>\n",
       "      <td>0</td>\n",
       "      <td>0</td>\n",
       "      <td>1</td>\n",
       "      <td>0</td>\n",
       "      <td>0</td>\n",
       "      <td>0</td>\n",
       "      <td>0</td>\n",
       "      <td>0</td>\n",
       "      <td>1</td>\n",
       "      <td>0</td>\n",
       "    </tr>\n",
       "    <tr>\n",
       "      <th>4</th>\n",
       "      <td>0</td>\n",
       "      <td>0</td>\n",
       "      <td>176.7000</td>\n",
       "      <td>176.7000</td>\n",
       "      <td>0</td>\n",
       "      <td>0</td>\n",
       "      <td>1</td>\n",
       "      <td>1</td>\n",
       "      <td>0</td>\n",
       "      <td>0</td>\n",
       "      <td>1</td>\n",
       "      <td>0</td>\n",
       "      <td>0</td>\n",
       "      <td>0</td>\n",
       "      <td>0</td>\n",
       "      <td>0</td>\n",
       "      <td>1</td>\n",
       "      <td>0</td>\n",
       "    </tr>\n",
       "  </tbody>\n",
       "</table>\n",
       "</div>"
      ],
      "text/plain": [
       "  store_id sku_id  total_price  base_price  is_featured_sku  is_display_sku  \\\n",
       "0        0      1     108.3000    108.3000                0               0   \n",
       "1        0      0     109.0125    109.0125                0               0   \n",
       "2        0      0     133.9500    133.9500                0               0   \n",
       "3        0      0     133.9500    133.9500                0               0   \n",
       "4        0      0     176.7000    176.7000                0               0   \n",
       "\n",
       "   month week_number  year_2011  year_2012  year_2013  day_name_Friday  \\\n",
       "0      1           1          0          0          1                0   \n",
       "1      1           1          0          0          1                0   \n",
       "2      1           1          0          0          1                0   \n",
       "3      1           1          0          0          1                0   \n",
       "4      1           1          0          0          1                0   \n",
       "\n",
       "   day_name_Monday  day_name_Saturday  day_name_Sunday  day_name_Thursday  \\\n",
       "0                0                  0                0                  0   \n",
       "1                0                  0                0                  0   \n",
       "2                0                  0                0                  0   \n",
       "3                0                  0                0                  0   \n",
       "4                0                  0                0                  0   \n",
       "\n",
       "   day_name_Tuesday  day_name_Wednesday  \n",
       "0                 1                   0  \n",
       "1                 1                   0  \n",
       "2                 1                   0  \n",
       "3                 1                   0  \n",
       "4                 1                   0  "
      ]
     },
     "execution_count": 79,
     "metadata": {},
     "output_type": "execute_result"
    }
   ],
   "source": [
    "En_test_data.head()"
   ]
  },
  {
   "cell_type": "code",
   "execution_count": 80,
   "id": "3b646ca0",
   "metadata": {},
   "outputs": [
    {
     "name": "stdout",
     "output_type": "stream",
     "text": [
      "(133027, 19)\n",
      "(13860, 18)\n"
     ]
    }
   ],
   "source": [
    "print(En_train_data.shape)\n",
    "print(En_test_data.shape)"
   ]
  },
  {
   "cell_type": "markdown",
   "id": "7e341d43",
   "metadata": {},
   "source": [
    "Now the number of features in both train test data is same except for units_sold to be predicted is not present in test data."
   ]
  },
  {
   "cell_type": "code",
   "execution_count": 81,
   "id": "8376dc41",
   "metadata": {},
   "outputs": [
    {
     "name": "stdout",
     "output_type": "stream",
     "text": [
      "<class 'pandas.core.frame.DataFrame'>\n",
      "RangeIndex: 133027 entries, 0 to 133026\n",
      "Data columns (total 19 columns):\n",
      " #   Column              Non-Null Count   Dtype  \n",
      "---  ------              --------------   -----  \n",
      " 0   store_id            133027 non-null  int64  \n",
      " 1   sku_id              133027 non-null  int64  \n",
      " 2   total_price         133027 non-null  float64\n",
      " 3   base_price          133027 non-null  float64\n",
      " 4   is_featured_sku     133027 non-null  int64  \n",
      " 5   is_display_sku      133027 non-null  int64  \n",
      " 6   units_sold          133027 non-null  int64  \n",
      " 7   month               133027 non-null  int64  \n",
      " 8   week_number         133027 non-null  int64  \n",
      " 9   year_2011           133027 non-null  uint8  \n",
      " 10  year_2012           133027 non-null  uint8  \n",
      " 11  year_2013           133027 non-null  uint8  \n",
      " 12  day_name_Friday     133027 non-null  uint8  \n",
      " 13  day_name_Monday     133027 non-null  uint8  \n",
      " 14  day_name_Saturday   133027 non-null  uint8  \n",
      " 15  day_name_Sunday     133027 non-null  uint8  \n",
      " 16  day_name_Thursday   133027 non-null  uint8  \n",
      " 17  day_name_Tuesday    133027 non-null  uint8  \n",
      " 18  day_name_Wednesday  133027 non-null  uint8  \n",
      "dtypes: float64(2), int64(7), uint8(10)\n",
      "memory usage: 10.4 MB\n"
     ]
    }
   ],
   "source": [
    "En_train_data.info()"
   ]
  },
  {
   "cell_type": "markdown",
   "id": "7a73bd8c",
   "metadata": {},
   "source": [
    "Now all the categorical features are encoded in both train and test data in same way."
   ]
  },
  {
   "cell_type": "markdown",
   "id": "17b9b351",
   "metadata": {},
   "source": [
    "## Feature Selection"
   ]
  },
  {
   "cell_type": "code",
   "execution_count": 82,
   "id": "c94aff0d",
   "metadata": {},
   "outputs": [
    {
     "data": {
      "text/html": [
       "<div>\n",
       "<style scoped>\n",
       "    .dataframe tbody tr th:only-of-type {\n",
       "        vertical-align: middle;\n",
       "    }\n",
       "\n",
       "    .dataframe tbody tr th {\n",
       "        vertical-align: top;\n",
       "    }\n",
       "\n",
       "    .dataframe thead th {\n",
       "        text-align: right;\n",
       "    }\n",
       "</style>\n",
       "<table border=\"1\" class=\"dataframe\">\n",
       "  <thead>\n",
       "    <tr style=\"text-align: right;\">\n",
       "      <th></th>\n",
       "      <th>store_id</th>\n",
       "      <th>sku_id</th>\n",
       "      <th>total_price</th>\n",
       "      <th>base_price</th>\n",
       "      <th>is_featured_sku</th>\n",
       "      <th>is_display_sku</th>\n",
       "      <th>units_sold</th>\n",
       "      <th>month</th>\n",
       "      <th>week_number</th>\n",
       "      <th>year_2011</th>\n",
       "      <th>year_2012</th>\n",
       "      <th>year_2013</th>\n",
       "      <th>day_name_Friday</th>\n",
       "      <th>day_name_Monday</th>\n",
       "      <th>day_name_Saturday</th>\n",
       "      <th>day_name_Sunday</th>\n",
       "      <th>day_name_Thursday</th>\n",
       "      <th>day_name_Tuesday</th>\n",
       "      <th>day_name_Wednesday</th>\n",
       "    </tr>\n",
       "  </thead>\n",
       "  <tbody>\n",
       "    <tr>\n",
       "      <th>0</th>\n",
       "      <td>0</td>\n",
       "      <td>1</td>\n",
       "      <td>99.0375</td>\n",
       "      <td>111.8625</td>\n",
       "      <td>0</td>\n",
       "      <td>0</td>\n",
       "      <td>20</td>\n",
       "      <td>0</td>\n",
       "      <td>0</td>\n",
       "      <td>1</td>\n",
       "      <td>0</td>\n",
       "      <td>0</td>\n",
       "      <td>0</td>\n",
       "      <td>1</td>\n",
       "      <td>0</td>\n",
       "      <td>0</td>\n",
       "      <td>0</td>\n",
       "      <td>0</td>\n",
       "      <td>0</td>\n",
       "    </tr>\n",
       "    <tr>\n",
       "      <th>1</th>\n",
       "      <td>0</td>\n",
       "      <td>0</td>\n",
       "      <td>99.0375</td>\n",
       "      <td>99.0375</td>\n",
       "      <td>0</td>\n",
       "      <td>0</td>\n",
       "      <td>28</td>\n",
       "      <td>0</td>\n",
       "      <td>0</td>\n",
       "      <td>1</td>\n",
       "      <td>0</td>\n",
       "      <td>0</td>\n",
       "      <td>0</td>\n",
       "      <td>1</td>\n",
       "      <td>0</td>\n",
       "      <td>0</td>\n",
       "      <td>0</td>\n",
       "      <td>0</td>\n",
       "      <td>0</td>\n",
       "    </tr>\n",
       "    <tr>\n",
       "      <th>2</th>\n",
       "      <td>0</td>\n",
       "      <td>0</td>\n",
       "      <td>133.9500</td>\n",
       "      <td>133.9500</td>\n",
       "      <td>0</td>\n",
       "      <td>0</td>\n",
       "      <td>19</td>\n",
       "      <td>0</td>\n",
       "      <td>0</td>\n",
       "      <td>1</td>\n",
       "      <td>0</td>\n",
       "      <td>0</td>\n",
       "      <td>0</td>\n",
       "      <td>1</td>\n",
       "      <td>0</td>\n",
       "      <td>0</td>\n",
       "      <td>0</td>\n",
       "      <td>0</td>\n",
       "      <td>0</td>\n",
       "    </tr>\n",
       "    <tr>\n",
       "      <th>3</th>\n",
       "      <td>0</td>\n",
       "      <td>0</td>\n",
       "      <td>133.9500</td>\n",
       "      <td>133.9500</td>\n",
       "      <td>0</td>\n",
       "      <td>0</td>\n",
       "      <td>44</td>\n",
       "      <td>0</td>\n",
       "      <td>0</td>\n",
       "      <td>1</td>\n",
       "      <td>0</td>\n",
       "      <td>0</td>\n",
       "      <td>0</td>\n",
       "      <td>1</td>\n",
       "      <td>0</td>\n",
       "      <td>0</td>\n",
       "      <td>0</td>\n",
       "      <td>0</td>\n",
       "      <td>0</td>\n",
       "    </tr>\n",
       "    <tr>\n",
       "      <th>4</th>\n",
       "      <td>0</td>\n",
       "      <td>0</td>\n",
       "      <td>141.0750</td>\n",
       "      <td>141.0750</td>\n",
       "      <td>0</td>\n",
       "      <td>0</td>\n",
       "      <td>52</td>\n",
       "      <td>0</td>\n",
       "      <td>0</td>\n",
       "      <td>1</td>\n",
       "      <td>0</td>\n",
       "      <td>0</td>\n",
       "      <td>0</td>\n",
       "      <td>1</td>\n",
       "      <td>0</td>\n",
       "      <td>0</td>\n",
       "      <td>0</td>\n",
       "      <td>0</td>\n",
       "      <td>0</td>\n",
       "    </tr>\n",
       "  </tbody>\n",
       "</table>\n",
       "</div>"
      ],
      "text/plain": [
       "   store_id  sku_id  total_price  base_price  is_featured_sku  is_display_sku  \\\n",
       "0         0       1      99.0375    111.8625                0               0   \n",
       "1         0       0      99.0375     99.0375                0               0   \n",
       "2         0       0     133.9500    133.9500                0               0   \n",
       "3         0       0     133.9500    133.9500                0               0   \n",
       "4         0       0     141.0750    141.0750                0               0   \n",
       "\n",
       "   units_sold  month  week_number  year_2011  year_2012  year_2013  \\\n",
       "0          20      0            0          1          0          0   \n",
       "1          28      0            0          1          0          0   \n",
       "2          19      0            0          1          0          0   \n",
       "3          44      0            0          1          0          0   \n",
       "4          52      0            0          1          0          0   \n",
       "\n",
       "   day_name_Friday  day_name_Monday  day_name_Saturday  day_name_Sunday  \\\n",
       "0                0                1                  0                0   \n",
       "1                0                1                  0                0   \n",
       "2                0                1                  0                0   \n",
       "3                0                1                  0                0   \n",
       "4                0                1                  0                0   \n",
       "\n",
       "   day_name_Thursday  day_name_Tuesday  day_name_Wednesday  \n",
       "0                  0                 0                   0  \n",
       "1                  0                 0                   0  \n",
       "2                  0                 0                   0  \n",
       "3                  0                 0                   0  \n",
       "4                  0                 0                   0  "
      ]
     },
     "execution_count": 82,
     "metadata": {},
     "output_type": "execute_result"
    }
   ],
   "source": [
    "En_train_data.head()"
   ]
  },
  {
   "cell_type": "markdown",
   "id": "ea9c3c5c",
   "metadata": {},
   "source": [
    "## Correlation"
   ]
  },
  {
   "cell_type": "code",
   "execution_count": 83,
   "id": "51c4e255",
   "metadata": {},
   "outputs": [
    {
     "data": {
      "image/png": "[encoded data removed]",
      "text/plain": [
       "<Figure size 1440x1440 with 2 Axes>"
      ]
     },
     "metadata": {
      "needs_background": "light"
     },
     "output_type": "display_data"
    }
   ],
   "source": [
    "plt.figure(figsize = (20,20))\n",
    "plt.title(\"Correlation between features and target\")\n",
    "sns.heatmap(En_train_data.corr(), annot = True, cmap = 'flare')\n",
    "\n",
    "plt.show()"
   ]
  },
  {
   "cell_type": "markdown",
   "id": "fb8a709f",
   "metadata": {},
   "source": [
    "Features : is_featured_sku, is_displayed_sku, store_id and sku_id are having comparatively best correlation with units_sold."
   ]
  },
  {
   "cell_type": "code",
   "execution_count": 84,
   "id": "3ae106f5",
   "metadata": {},
   "outputs": [],
   "source": [
    "corr=En_train_data.iloc[:,:].corr()\n",
    "name_features=corr.index"
   ]
  },
  {
   "cell_type": "code",
   "execution_count": 85,
   "id": "9291685e",
   "metadata": {},
   "outputs": [
    {
     "data": {
      "text/plain": [
       "store_id              0.287126\n",
       "sku_id                0.255344\n",
       "total_price           0.189147\n",
       "base_price            0.051454\n",
       "is_featured_sku       0.393627\n",
       "is_display_sku        0.392092\n",
       "units_sold            1.000000\n",
       "month                 0.043338\n",
       "week_number           0.001053\n",
       "year_2011             0.015154\n",
       "year_2012             0.009052\n",
       "year_2013             0.007149\n",
       "day_name_Friday       0.013830\n",
       "day_name_Monday       0.031585\n",
       "day_name_Saturday     0.018403\n",
       "day_name_Sunday       0.013248\n",
       "day_name_Thursday     0.009761\n",
       "day_name_Tuesday      0.023501\n",
       "day_name_Wednesday    0.017371\n",
       "Name: units_sold, dtype: float64"
      ]
     },
     "execution_count": 85,
     "metadata": {},
     "output_type": "execute_result"
    }
   ],
   "source": [
    "abs(corr[\"units_sold\"])"
   ]
  },
  {
   "cell_type": "markdown",
   "id": "d61f21cf",
   "metadata": {},
   "source": [
    "We can see there is correlation between units_sold and other features."
   ]
  },
  {
   "cell_type": "markdown",
   "id": "1f88ec2b",
   "metadata": {},
   "source": [
    "## Remove correlated independent features ( Multi collinearity)"
   ]
  },
  {
   "cell_type": "code",
   "execution_count": 86,
   "id": "70cce281",
   "metadata": {},
   "outputs": [],
   "source": [
    "threshold=0.5"
   ]
  },
  {
   "cell_type": "code",
   "execution_count": 87,
   "id": "3d908f67",
   "metadata": {},
   "outputs": [],
   "source": [
    "df_new = En_train_data.copy()"
   ]
  },
  {
   "cell_type": "code",
   "execution_count": 88,
   "id": "42508252",
   "metadata": {},
   "outputs": [],
   "source": [
    "corr_matrix=En_train_data.corr()"
   ]
  },
  {
   "cell_type": "code",
   "execution_count": 89,
   "id": "3ac1de72",
   "metadata": {},
   "outputs": [
    {
     "data": {
      "text/plain": [
       "Index(['store_id', 'sku_id', 'total_price', 'base_price', 'is_featured_sku',\n",
       "       'is_display_sku', 'units_sold', 'month', 'week_number', 'year_2011',\n",
       "       'year_2012', 'year_2013', 'day_name_Friday', 'day_name_Monday',\n",
       "       'day_name_Saturday', 'day_name_Sunday', 'day_name_Thursday',\n",
       "       'day_name_Tuesday', 'day_name_Wednesday'],\n",
       "      dtype='object')"
      ]
     },
     "execution_count": 89,
     "metadata": {},
     "output_type": "execute_result"
    }
   ],
   "source": [
    "corr_matrix.columns"
   ]
  },
  {
   "cell_type": "code",
   "execution_count": 90,
   "id": "c0477ec2",
   "metadata": {},
   "outputs": [],
   "source": [
    "# find and remove correlated features\n",
    "def multi_coli(dataset, threshold):\n",
    "    col_corr = set()  # Set of all the names of correlated columns\n",
    "    corr_matrix = dataset.corr()\n",
    "    for i in range(len(corr_matrix.columns)):\n",
    "        for j in range(i):\n",
    "            if abs(corr_matrix.iloc[i, j]) > threshold: # we are interested in absolute coeff value\n",
    "                colname = corr_matrix.columns[i]  # getting the name of column\n",
    "                col_corr.add(colname)\n",
    "    return col_corr"
   ]
  },
  {
   "cell_type": "code",
   "execution_count": 91,
   "id": "bf24adcb",
   "metadata": {},
   "outputs": [
    {
     "data": {
      "text/plain": [
       "{'base_price', 'day_name_Monday', 'day_name_Tuesday', 'year_2012'}"
      ]
     },
     "execution_count": 91,
     "metadata": {},
     "output_type": "execute_result"
    }
   ],
   "source": [
    "multi_coli(df_new,.5)"
   ]
  },
  {
   "cell_type": "markdown",
   "id": "5c0845f9",
   "metadata": {},
   "source": [
    "As we can see 'base_price', 'day_name_Monday', 'day_name_Tuesday', 'year_2012' features are multi-collinear, thus dopping them."
   ]
  },
  {
   "cell_type": "code",
   "execution_count": 92,
   "id": "ee4c907a",
   "metadata": {},
   "outputs": [],
   "source": [
    "df_train_final = En_train_data.drop(['base_price', 'day_name_Monday', 'day_name_Tuesday', 'year_2012'], axis=1)"
   ]
  },
  {
   "cell_type": "code",
   "execution_count": 93,
   "id": "c3ac6722",
   "metadata": {},
   "outputs": [
    {
     "name": "stdout",
     "output_type": "stream",
     "text": [
      "<class 'pandas.core.frame.DataFrame'>\n",
      "RangeIndex: 133027 entries, 0 to 133026\n",
      "Data columns (total 15 columns):\n",
      " #   Column              Non-Null Count   Dtype  \n",
      "---  ------              --------------   -----  \n",
      " 0   store_id            133027 non-null  int64  \n",
      " 1   sku_id              133027 non-null  int64  \n",
      " 2   total_price         133027 non-null  float64\n",
      " 3   is_featured_sku     133027 non-null  int64  \n",
      " 4   is_display_sku      133027 non-null  int64  \n",
      " 5   units_sold          133027 non-null  int64  \n",
      " 6   month               133027 non-null  int64  \n",
      " 7   week_number         133027 non-null  int64  \n",
      " 8   year_2011           133027 non-null  uint8  \n",
      " 9   year_2013           133027 non-null  uint8  \n",
      " 10  day_name_Friday     133027 non-null  uint8  \n",
      " 11  day_name_Saturday   133027 non-null  uint8  \n",
      " 12  day_name_Sunday     133027 non-null  uint8  \n",
      " 13  day_name_Thursday   133027 non-null  uint8  \n",
      " 14  day_name_Wednesday  133027 non-null  uint8  \n",
      "dtypes: float64(1), int64(7), uint8(7)\n",
      "memory usage: 9.0 MB\n"
     ]
    }
   ],
   "source": [
    "df_train_final.info()"
   ]
  },
  {
   "cell_type": "markdown",
   "id": "2df7ba1e",
   "metadata": {},
   "source": [
    "## HANDLING NUMERICAL FEATURES"
   ]
  },
  {
   "cell_type": "markdown",
   "id": "5a1f27f3",
   "metadata": {},
   "source": [
    "## Min Max Scaling \n",
    "scales the values between 0 to 1. \n",
    "\n",
    "### X_scaled = (X - X.min / (X.max - X.min)"
   ]
  },
  {
   "cell_type": "code",
   "execution_count": 95,
   "id": "b84bcab2",
   "metadata": {},
   "outputs": [],
   "source": [
    "#Since units_sold is the target variable, we won't be giving it in X\n",
    "x = df_train_final.drop(['units_sold'], axis=1)"
   ]
  },
  {
   "cell_type": "code",
   "execution_count": 96,
   "id": "01242e92",
   "metadata": {},
   "outputs": [],
   "source": [
    "import pandas as pd\n",
    "from sklearn.preprocessing import StandardScaler\n",
    "\n",
    "# Separate the numerical and encoded features\n",
    "numerical_features = x.select_dtypes(include=['float64'])\n",
    "encoded_features = x.select_dtypes(include=['int64', 'uint8'])\n",
    "\n",
    "# Scale the numerical features\n",
    "from sklearn.preprocessing import MinMaxScaler\n",
    "min_max=MinMaxScaler()\n",
    "scaled_numerical_features = min_max.fit_transform(numerical_features)\n",
    "\n",
    "# Concatenate the scaled numerical and encoded features\n",
    "scaled_train_data = pd.concat([pd.DataFrame(scaled_numerical_features), encoded_features], axis=1)\n",
    "\n",
    "# Get the scaled DataFrame as X\n",
    "X = scaled_train_data.values"
   ]
  },
  {
   "cell_type": "code",
   "execution_count": 97,
   "id": "9d5e3444",
   "metadata": {},
   "outputs": [
    {
     "data": {
      "text/plain": [
       "array([[0.17197452, 0.        , 1.        , ..., 0.        , 0.        ,\n",
       "        0.        ],\n",
       "       [0.17197452, 0.        , 0.        , ..., 0.        , 0.        ,\n",
       "        0.        ],\n",
       "       [0.27600849, 0.        , 0.        , ..., 0.        , 0.        ,\n",
       "        0.        ],\n",
       "       ...,\n",
       "       [0.57961783, 0.        , 0.        , ..., 0.        , 0.        ,\n",
       "        0.        ],\n",
       "       [0.29936306, 0.        , 0.        , ..., 0.        , 0.        ,\n",
       "        0.        ],\n",
       "       [0.57537155, 0.        , 0.        , ..., 0.        , 0.        ,\n",
       "        0.        ]])"
      ]
     },
     "execution_count": 97,
     "metadata": {},
     "output_type": "execute_result"
    }
   ],
   "source": [
    "X"
   ]
  },
  {
   "cell_type": "code",
   "execution_count": 98,
   "id": "29347388",
   "metadata": {},
   "outputs": [],
   "source": [
    "Y = df_train_final[\"units_sold\"]"
   ]
  },
  {
   "cell_type": "code",
   "execution_count": 99,
   "id": "2295015c",
   "metadata": {},
   "outputs": [],
   "source": [
    "from sklearn.model_selection import train_test_split\n",
    "\n",
    "X_train,X_test,Y_train,Y_test=train_test_split(X,Y,test_size=0.2,random_state=42)"
   ]
  },
  {
   "cell_type": "code",
   "execution_count": 100,
   "id": "ed6e9aa0",
   "metadata": {},
   "outputs": [
    {
     "data": {
      "text/plain": [
       "(26606, 14)"
      ]
     },
     "execution_count": 100,
     "metadata": {},
     "output_type": "execute_result"
    }
   ],
   "source": [
    "X_test.shape"
   ]
  },
  {
   "cell_type": "code",
   "execution_count": 101,
   "id": "fd4e993d",
   "metadata": {},
   "outputs": [],
   "source": [
    "from sklearn.linear_model import LinearRegression\n",
    "\n",
    "lr=LinearRegression()\n",
    "\n",
    "lin_model=lr.fit(X_train,Y_train)                      #Model name"
   ]
  },
  {
   "cell_type": "code",
   "execution_count": 102,
   "id": "6d74c48f",
   "metadata": {},
   "outputs": [
    {
     "data": {
      "text/plain": [
       "array([-33.51043639,  49.06041589,  34.69045531,  72.20150681,\n",
       "        43.5269053 ,   3.29689723,  -2.14133214,   1.26431698,\n",
       "        -2.85078844,  -3.62876774,  -2.46173746,   3.32477776,\n",
       "        -0.91158264,  -2.90990878])"
      ]
     },
     "execution_count": 102,
     "metadata": {},
     "output_type": "execute_result"
    }
   ],
   "source": [
    "lin_model.coef_"
   ]
  },
  {
   "cell_type": "code",
   "execution_count": 103,
   "id": "c20d2265",
   "metadata": {},
   "outputs": [
    {
     "data": {
      "text/plain": [
       "42.87668375737522"
      ]
     },
     "execution_count": 103,
     "metadata": {},
     "output_type": "execute_result"
    }
   ],
   "source": [
    "lin_model.intercept_"
   ]
  },
  {
   "cell_type": "markdown",
   "id": "a2ab990c",
   "metadata": {},
   "source": [
    "### Calculating RMSLE"
   ]
  },
  {
   "cell_type": "code",
   "execution_count": 104,
   "id": "9af4df64",
   "metadata": {},
   "outputs": [],
   "source": [
    "from sklearn.metrics import mean_squared_error,mean_absolute_error"
   ]
  },
  {
   "cell_type": "code",
   "execution_count": 105,
   "id": "4d4acf79",
   "metadata": {},
   "outputs": [],
   "source": [
    "Y_pred=lin_model.predict(X_test)"
   ]
  },
  {
   "cell_type": "code",
   "execution_count": 117,
   "id": "8a5d343a",
   "metadata": {},
   "outputs": [
    {
     "name": "stdout",
     "output_type": "stream",
     "text": [
      "Accuracy score for Linear Regression model, RMSLE is 75.52 %\n"
     ]
    }
   ],
   "source": [
    "# calculate RMSLE\n",
    "rmsle = np.sqrt(np.mean((np.log(Y_pred + 1) - np.log(Y_test + 1))**2))\n",
    "\n",
    "print(\"Accuracy score for Linear Regression model, RMSLE is\", round(rmsle*100,2),\"%\")"
   ]
  },
  {
   "cell_type": "code",
   "execution_count": 107,
   "id": "32f23626",
   "metadata": {},
   "outputs": [
    {
     "data": {
      "text/plain": [
       "<AxesSubplot:xlabel='units_sold'>"
      ]
     },
     "execution_count": 107,
     "metadata": {},
     "output_type": "execute_result"
    },
    {
     "data": {
      "image/png": "[encoded data removed]",
      "text/plain": [
       "<Figure size 432x288 with 1 Axes>"
      ]
     },
     "metadata": {
      "needs_background": "light"
     },
     "output_type": "display_data"
    }
   ],
   "source": [
    "sns.regplot(Y_test,Y_pred)"
   ]
  },
  {
   "cell_type": "code",
   "execution_count": 108,
   "id": "34dbf2d3",
   "metadata": {},
   "outputs": [
    {
     "data": {
      "text/plain": [
       "<AxesSubplot:xlabel='units_sold', ylabel='Density'>"
      ]
     },
     "execution_count": 108,
     "metadata": {},
     "output_type": "execute_result"
    },
    {
     "data": {
      "image/png": "[encoded data removed]",
      "text/plain": [
       "<Figure size 432x288 with 1 Axes>"
      ]
     },
     "metadata": {
      "needs_background": "light"
     },
     "output_type": "display_data"
    }
   ],
   "source": [
    "sns.distplot(Y_test-Y_pred)"
   ]
  },
  {
   "cell_type": "markdown",
   "id": "2751fadc",
   "metadata": {},
   "source": [
    "**X** is the encoded and scaled data of train data."
   ]
  },
  {
   "cell_type": "markdown",
   "id": "ad61123a",
   "metadata": {},
   "source": [
    "To Understand what the predicted values looks like, let's try it for **train data**, to have a comparison between actual units sold and predicted units sold."
   ]
  },
  {
   "cell_type": "code",
   "execution_count": 109,
   "id": "ccaf70d5",
   "metadata": {},
   "outputs": [],
   "source": [
    "df_train_final[\"pred_units_sold\"] = lin_model.predict(X)"
   ]
  },
  {
   "cell_type": "code",
   "execution_count": 110,
   "id": "5f7c397e",
   "metadata": {
    "scrolled": true
   },
   "outputs": [
    {
     "data": {
      "text/html": [
       "<div>\n",
       "<style scoped>\n",
       "    .dataframe tbody tr th:only-of-type {\n",
       "        vertical-align: middle;\n",
       "    }\n",
       "\n",
       "    .dataframe tbody tr th {\n",
       "        vertical-align: top;\n",
       "    }\n",
       "\n",
       "    .dataframe thead th {\n",
       "        text-align: right;\n",
       "    }\n",
       "</style>\n",
       "<table border=\"1\" class=\"dataframe\">\n",
       "  <thead>\n",
       "    <tr style=\"text-align: right;\">\n",
       "      <th></th>\n",
       "      <th>store_id</th>\n",
       "      <th>sku_id</th>\n",
       "      <th>total_price</th>\n",
       "      <th>is_featured_sku</th>\n",
       "      <th>is_display_sku</th>\n",
       "      <th>units_sold</th>\n",
       "      <th>month</th>\n",
       "      <th>week_number</th>\n",
       "      <th>year_2011</th>\n",
       "      <th>year_2013</th>\n",
       "      <th>day_name_Friday</th>\n",
       "      <th>day_name_Saturday</th>\n",
       "      <th>day_name_Sunday</th>\n",
       "      <th>day_name_Thursday</th>\n",
       "      <th>day_name_Wednesday</th>\n",
       "      <th>pred_units_sold</th>\n",
       "    </tr>\n",
       "  </thead>\n",
       "  <tbody>\n",
       "    <tr>\n",
       "      <th>0</th>\n",
       "      <td>0</td>\n",
       "      <td>1</td>\n",
       "      <td>99.0375</td>\n",
       "      <td>0</td>\n",
       "      <td>0</td>\n",
       "      <td>20</td>\n",
       "      <td>0</td>\n",
       "      <td>0</td>\n",
       "      <td>1</td>\n",
       "      <td>0</td>\n",
       "      <td>0</td>\n",
       "      <td>0</td>\n",
       "      <td>0</td>\n",
       "      <td>0</td>\n",
       "      <td>0</td>\n",
       "      <td>73.068515</td>\n",
       "    </tr>\n",
       "    <tr>\n",
       "      <th>1</th>\n",
       "      <td>0</td>\n",
       "      <td>0</td>\n",
       "      <td>99.0375</td>\n",
       "      <td>0</td>\n",
       "      <td>0</td>\n",
       "      <td>28</td>\n",
       "      <td>0</td>\n",
       "      <td>0</td>\n",
       "      <td>1</td>\n",
       "      <td>0</td>\n",
       "      <td>0</td>\n",
       "      <td>0</td>\n",
       "      <td>0</td>\n",
       "      <td>0</td>\n",
       "      <td>0</td>\n",
       "      <td>38.378059</td>\n",
       "    </tr>\n",
       "    <tr>\n",
       "      <th>2</th>\n",
       "      <td>0</td>\n",
       "      <td>0</td>\n",
       "      <td>133.9500</td>\n",
       "      <td>0</td>\n",
       "      <td>0</td>\n",
       "      <td>19</td>\n",
       "      <td>0</td>\n",
       "      <td>0</td>\n",
       "      <td>1</td>\n",
       "      <td>0</td>\n",
       "      <td>0</td>\n",
       "      <td>0</td>\n",
       "      <td>0</td>\n",
       "      <td>0</td>\n",
       "      <td>0</td>\n",
       "      <td>34.891836</td>\n",
       "    </tr>\n",
       "    <tr>\n",
       "      <th>3</th>\n",
       "      <td>0</td>\n",
       "      <td>0</td>\n",
       "      <td>133.9500</td>\n",
       "      <td>0</td>\n",
       "      <td>0</td>\n",
       "      <td>44</td>\n",
       "      <td>0</td>\n",
       "      <td>0</td>\n",
       "      <td>1</td>\n",
       "      <td>0</td>\n",
       "      <td>0</td>\n",
       "      <td>0</td>\n",
       "      <td>0</td>\n",
       "      <td>0</td>\n",
       "      <td>0</td>\n",
       "      <td>34.891836</td>\n",
       "    </tr>\n",
       "    <tr>\n",
       "      <th>4</th>\n",
       "      <td>0</td>\n",
       "      <td>0</td>\n",
       "      <td>141.0750</td>\n",
       "      <td>0</td>\n",
       "      <td>0</td>\n",
       "      <td>52</td>\n",
       "      <td>0</td>\n",
       "      <td>0</td>\n",
       "      <td>1</td>\n",
       "      <td>0</td>\n",
       "      <td>0</td>\n",
       "      <td>0</td>\n",
       "      <td>0</td>\n",
       "      <td>0</td>\n",
       "      <td>0</td>\n",
       "      <td>34.180361</td>\n",
       "    </tr>\n",
       "  </tbody>\n",
       "</table>\n",
       "</div>"
      ],
      "text/plain": [
       "   store_id  sku_id  total_price  is_featured_sku  is_display_sku  units_sold  \\\n",
       "0         0       1      99.0375                0               0          20   \n",
       "1         0       0      99.0375                0               0          28   \n",
       "2         0       0     133.9500                0               0          19   \n",
       "3         0       0     133.9500                0               0          44   \n",
       "4         0       0     141.0750                0               0          52   \n",
       "\n",
       "   month  week_number  year_2011  year_2013  day_name_Friday  \\\n",
       "0      0            0          1          0                0   \n",
       "1      0            0          1          0                0   \n",
       "2      0            0          1          0                0   \n",
       "3      0            0          1          0                0   \n",
       "4      0            0          1          0                0   \n",
       "\n",
       "   day_name_Saturday  day_name_Sunday  day_name_Thursday  day_name_Wednesday  \\\n",
       "0                  0                0                  0                   0   \n",
       "1                  0                0                  0                   0   \n",
       "2                  0                0                  0                   0   \n",
       "3                  0                0                  0                   0   \n",
       "4                  0                0                  0                   0   \n",
       "\n",
       "   pred_units_sold  \n",
       "0        73.068515  \n",
       "1        38.378059  \n",
       "2        34.891836  \n",
       "3        34.891836  \n",
       "4        34.180361  "
      ]
     },
     "execution_count": 110,
     "metadata": {},
     "output_type": "execute_result"
    }
   ],
   "source": [
    "df_train_final.head()"
   ]
  },
  {
   "cell_type": "code",
   "execution_count": 111,
   "id": "8d55b6a7",
   "metadata": {},
   "outputs": [],
   "source": [
    "train_data1[\"pred_units_sold\"] = lin_model.predict(X)\n",
    "train_data1[\"pred_units_sold\"] = train_data1[\"pred_units_sold\"].round(decimals=0)"
   ]
  },
  {
   "cell_type": "code",
   "execution_count": 112,
   "id": "4c5abe6e",
   "metadata": {},
   "outputs": [],
   "source": [
    "Train_pred = train_data1[[\"store_id\", \"sku_id\",\"week_number\", \"units_sold\", \"pred_units_sold\"]]"
   ]
  },
  {
   "cell_type": "code",
   "execution_count": 118,
   "id": "60bb428c",
   "metadata": {},
   "outputs": [
    {
     "data": {
      "text/html": [
       "<div>\n",
       "<style scoped>\n",
       "    .dataframe tbody tr th:only-of-type {\n",
       "        vertical-align: middle;\n",
       "    }\n",
       "\n",
       "    .dataframe tbody tr th {\n",
       "        vertical-align: top;\n",
       "    }\n",
       "\n",
       "    .dataframe thead th {\n",
       "        text-align: right;\n",
       "    }\n",
       "</style>\n",
       "<table border=\"1\" class=\"dataframe\">\n",
       "  <thead>\n",
       "    <tr style=\"text-align: right;\">\n",
       "      <th></th>\n",
       "      <th>store_id</th>\n",
       "      <th>sku_id</th>\n",
       "      <th>week_number</th>\n",
       "      <th>units_sold</th>\n",
       "      <th>pred_units_sold</th>\n",
       "    </tr>\n",
       "  </thead>\n",
       "  <tbody>\n",
       "    <tr>\n",
       "      <th>0</th>\n",
       "      <td>8091</td>\n",
       "      <td>216418</td>\n",
       "      <td>3</td>\n",
       "      <td>20</td>\n",
       "      <td>73.0</td>\n",
       "    </tr>\n",
       "    <tr>\n",
       "      <th>1</th>\n",
       "      <td>8091</td>\n",
       "      <td>216419</td>\n",
       "      <td>3</td>\n",
       "      <td>28</td>\n",
       "      <td>38.0</td>\n",
       "    </tr>\n",
       "    <tr>\n",
       "      <th>2</th>\n",
       "      <td>8091</td>\n",
       "      <td>216425</td>\n",
       "      <td>3</td>\n",
       "      <td>19</td>\n",
       "      <td>35.0</td>\n",
       "    </tr>\n",
       "    <tr>\n",
       "      <th>3</th>\n",
       "      <td>8091</td>\n",
       "      <td>216233</td>\n",
       "      <td>3</td>\n",
       "      <td>44</td>\n",
       "      <td>35.0</td>\n",
       "    </tr>\n",
       "    <tr>\n",
       "      <th>4</th>\n",
       "      <td>8091</td>\n",
       "      <td>217390</td>\n",
       "      <td>3</td>\n",
       "      <td>52</td>\n",
       "      <td>34.0</td>\n",
       "    </tr>\n",
       "    <tr>\n",
       "      <th>5</th>\n",
       "      <td>8091</td>\n",
       "      <td>219009</td>\n",
       "      <td>3</td>\n",
       "      <td>18</td>\n",
       "      <td>60.0</td>\n",
       "    </tr>\n",
       "    <tr>\n",
       "      <th>6</th>\n",
       "      <td>8091</td>\n",
       "      <td>219029</td>\n",
       "      <td>3</td>\n",
       "      <td>47</td>\n",
       "      <td>16.0</td>\n",
       "    </tr>\n",
       "    <tr>\n",
       "      <th>7</th>\n",
       "      <td>8091</td>\n",
       "      <td>223245</td>\n",
       "      <td>3</td>\n",
       "      <td>50</td>\n",
       "      <td>62.0</td>\n",
       "    </tr>\n",
       "    <tr>\n",
       "      <th>8</th>\n",
       "      <td>8091</td>\n",
       "      <td>223153</td>\n",
       "      <td>3</td>\n",
       "      <td>82</td>\n",
       "      <td>145.0</td>\n",
       "    </tr>\n",
       "    <tr>\n",
       "      <th>9</th>\n",
       "      <td>8095</td>\n",
       "      <td>216418</td>\n",
       "      <td>3</td>\n",
       "      <td>99</td>\n",
       "      <td>122.0</td>\n",
       "    </tr>\n",
       "    <tr>\n",
       "      <th>10</th>\n",
       "      <td>8095</td>\n",
       "      <td>216419</td>\n",
       "      <td>3</td>\n",
       "      <td>120</td>\n",
       "      <td>88.0</td>\n",
       "    </tr>\n",
       "    <tr>\n",
       "      <th>11</th>\n",
       "      <td>8095</td>\n",
       "      <td>300021</td>\n",
       "      <td>3</td>\n",
       "      <td>40</td>\n",
       "      <td>88.0</td>\n",
       "    </tr>\n",
       "    <tr>\n",
       "      <th>12</th>\n",
       "      <td>8095</td>\n",
       "      <td>216425</td>\n",
       "      <td>3</td>\n",
       "      <td>68</td>\n",
       "      <td>84.0</td>\n",
       "    </tr>\n",
       "    <tr>\n",
       "      <th>13</th>\n",
       "      <td>8095</td>\n",
       "      <td>216233</td>\n",
       "      <td>3</td>\n",
       "      <td>87</td>\n",
       "      <td>84.0</td>\n",
       "    </tr>\n",
       "    <tr>\n",
       "      <th>14</th>\n",
       "      <td>8095</td>\n",
       "      <td>217390</td>\n",
       "      <td>3</td>\n",
       "      <td>186</td>\n",
       "      <td>83.0</td>\n",
       "    </tr>\n",
       "    <tr>\n",
       "      <th>15</th>\n",
       "      <td>8095</td>\n",
       "      <td>219844</td>\n",
       "      <td>3</td>\n",
       "      <td>54</td>\n",
       "      <td>74.0</td>\n",
       "    </tr>\n",
       "    <tr>\n",
       "      <th>16</th>\n",
       "      <td>8095</td>\n",
       "      <td>219009</td>\n",
       "      <td>3</td>\n",
       "      <td>74</td>\n",
       "      <td>111.0</td>\n",
       "    </tr>\n",
       "    <tr>\n",
       "      <th>17</th>\n",
       "      <td>8095</td>\n",
       "      <td>219029</td>\n",
       "      <td>3</td>\n",
       "      <td>102</td>\n",
       "      <td>71.0</td>\n",
       "    </tr>\n",
       "    <tr>\n",
       "      <th>18</th>\n",
       "      <td>8095</td>\n",
       "      <td>222087</td>\n",
       "      <td>3</td>\n",
       "      <td>214</td>\n",
       "      <td>152.0</td>\n",
       "    </tr>\n",
       "    <tr>\n",
       "      <th>19</th>\n",
       "      <td>8095</td>\n",
       "      <td>320485</td>\n",
       "      <td>3</td>\n",
       "      <td>28</td>\n",
       "      <td>77.0</td>\n",
       "    </tr>\n",
       "  </tbody>\n",
       "</table>\n",
       "</div>"
      ],
      "text/plain": [
       "   store_id  sku_id week_number  units_sold  pred_units_sold\n",
       "0      8091  216418           3          20             73.0\n",
       "1      8091  216419           3          28             38.0\n",
       "2      8091  216425           3          19             35.0\n",
       "3      8091  216233           3          44             35.0\n",
       "4      8091  217390           3          52             34.0\n",
       "5      8091  219009           3          18             60.0\n",
       "6      8091  219029           3          47             16.0\n",
       "7      8091  223245           3          50             62.0\n",
       "8      8091  223153           3          82            145.0\n",
       "9      8095  216418           3          99            122.0\n",
       "10     8095  216419           3         120             88.0\n",
       "11     8095  300021           3          40             88.0\n",
       "12     8095  216425           3          68             84.0\n",
       "13     8095  216233           3          87             84.0\n",
       "14     8095  217390           3         186             83.0\n",
       "15     8095  219844           3          54             74.0\n",
       "16     8095  219009           3          74            111.0\n",
       "17     8095  219029           3         102             71.0\n",
       "18     8095  222087           3         214            152.0\n",
       "19     8095  320485           3          28             77.0"
      ]
     },
     "execution_count": 118,
     "metadata": {},
     "output_type": "execute_result"
    }
   ],
   "source": [
    "Train_pred.head(20)"
   ]
  },
  {
   "cell_type": "markdown",
   "id": "8a1bf1e6",
   "metadata": {},
   "source": [
    "Predicted_units_sold is not so accurate, but few are nearby the actual units_sold."
   ]
  },
  {
   "cell_type": "code",
   "execution_count": 119,
   "id": "9c20ed17",
   "metadata": {},
   "outputs": [],
   "source": [
    "#Dropping the features which were dropped from train data.\n",
    "df_test_final = En_test_data.drop(columns = ['base_price',  'day_name_Monday', 'day_name_Tuesday', 'year_2012'], axis=1)"
   ]
  },
  {
   "cell_type": "code",
   "execution_count": 120,
   "id": "0fbf257f",
   "metadata": {},
   "outputs": [
    {
     "name": "stdout",
     "output_type": "stream",
     "text": [
      "<class 'pandas.core.frame.DataFrame'>\n",
      "RangeIndex: 13860 entries, 0 to 13859\n",
      "Data columns (total 14 columns):\n",
      " #   Column              Non-Null Count  Dtype  \n",
      "---  ------              --------------  -----  \n",
      " 0   store_id            13860 non-null  object \n",
      " 1   sku_id              13860 non-null  object \n",
      " 2   total_price         13860 non-null  float64\n",
      " 3   is_featured_sku     13860 non-null  int64  \n",
      " 4   is_display_sku      13860 non-null  int64  \n",
      " 5   month               13860 non-null  int64  \n",
      " 6   week_number         13860 non-null  object \n",
      " 7   year_2011           13860 non-null  int64  \n",
      " 8   year_2013           13860 non-null  uint8  \n",
      " 9   day_name_Friday     13860 non-null  int64  \n",
      " 10  day_name_Saturday   13860 non-null  uint8  \n",
      " 11  day_name_Sunday     13860 non-null  int64  \n",
      " 12  day_name_Thursday   13860 non-null  uint8  \n",
      " 13  day_name_Wednesday  13860 non-null  uint8  \n",
      "dtypes: float64(1), int64(6), object(3), uint8(4)\n",
      "memory usage: 1.1+ MB\n"
     ]
    }
   ],
   "source": [
    "df_test_final.info()"
   ]
  },
  {
   "cell_type": "code",
   "execution_count": 121,
   "id": "3b3fb2af",
   "metadata": {},
   "outputs": [],
   "source": [
    "import pandas as pd\n",
    "from sklearn.preprocessing import StandardScaler\n",
    "\n",
    "# Separate the numerical and encoded features\n",
    "numerical_features = df_test_final.select_dtypes(include=['float64'])\n",
    "encoded_features = df_test_final.select_dtypes(include=['object', 'int64', 'uint8'])\n",
    "\n",
    "# Scale the numerical features\n",
    "min_max=MinMaxScaler()\n",
    "scaled_numerical_features = min_max.fit_transform(numerical_features)\n",
    "\n",
    "# Concatenate the scaled numerical and encoded features\n",
    "scaled_test_data = pd.concat([pd.DataFrame(scaled_numerical_features), encoded_features], axis=1)\n",
    "\n",
    "# Get the scaled test DataFrame as A\n",
    "A = scaled_test_data.values"
   ]
  },
  {
   "cell_type": "markdown",
   "id": "fa0f6a83",
   "metadata": {},
   "source": [
    "**A** is the encoded and scaled data of test data."
   ]
  },
  {
   "cell_type": "code",
   "execution_count": 122,
   "id": "df557a83",
   "metadata": {},
   "outputs": [],
   "source": [
    "df_test_final[\"pred_units_sold\"] = lin_model.predict(A)\n",
    "df_test_final[\"pred_units_sold\"] = df_test_final[\"pred_units_sold\"].round(decimals = 0)"
   ]
  },
  {
   "cell_type": "code",
   "execution_count": 123,
   "id": "36642bf6",
   "metadata": {},
   "outputs": [
    {
     "data": {
      "text/html": [
       "<div>\n",
       "<style scoped>\n",
       "    .dataframe tbody tr th:only-of-type {\n",
       "        vertical-align: middle;\n",
       "    }\n",
       "\n",
       "    .dataframe tbody tr th {\n",
       "        vertical-align: top;\n",
       "    }\n",
       "\n",
       "    .dataframe thead th {\n",
       "        text-align: right;\n",
       "    }\n",
       "</style>\n",
       "<table border=\"1\" class=\"dataframe\">\n",
       "  <thead>\n",
       "    <tr style=\"text-align: right;\">\n",
       "      <th></th>\n",
       "      <th>store_id</th>\n",
       "      <th>sku_id</th>\n",
       "      <th>total_price</th>\n",
       "      <th>is_featured_sku</th>\n",
       "      <th>is_display_sku</th>\n",
       "      <th>month</th>\n",
       "      <th>week_number</th>\n",
       "      <th>year_2011</th>\n",
       "      <th>year_2013</th>\n",
       "      <th>day_name_Friday</th>\n",
       "      <th>day_name_Saturday</th>\n",
       "      <th>day_name_Sunday</th>\n",
       "      <th>day_name_Thursday</th>\n",
       "      <th>day_name_Wednesday</th>\n",
       "      <th>pred_units_sold</th>\n",
       "    </tr>\n",
       "  </thead>\n",
       "  <tbody>\n",
       "    <tr>\n",
       "      <th>0</th>\n",
       "      <td>0</td>\n",
       "      <td>1</td>\n",
       "      <td>108.3000</td>\n",
       "      <td>0</td>\n",
       "      <td>0</td>\n",
       "      <td>1</td>\n",
       "      <td>1</td>\n",
       "      <td>0</td>\n",
       "      <td>1</td>\n",
       "      <td>0</td>\n",
       "      <td>0</td>\n",
       "      <td>0</td>\n",
       "      <td>0</td>\n",
       "      <td>0</td>\n",
       "      <td>73.0</td>\n",
       "    </tr>\n",
       "    <tr>\n",
       "      <th>1</th>\n",
       "      <td>0</td>\n",
       "      <td>0</td>\n",
       "      <td>109.0125</td>\n",
       "      <td>0</td>\n",
       "      <td>0</td>\n",
       "      <td>1</td>\n",
       "      <td>1</td>\n",
       "      <td>0</td>\n",
       "      <td>1</td>\n",
       "      <td>0</td>\n",
       "      <td>0</td>\n",
       "      <td>0</td>\n",
       "      <td>0</td>\n",
       "      <td>0</td>\n",
       "      <td>38.0</td>\n",
       "    </tr>\n",
       "    <tr>\n",
       "      <th>2</th>\n",
       "      <td>0</td>\n",
       "      <td>0</td>\n",
       "      <td>133.9500</td>\n",
       "      <td>0</td>\n",
       "      <td>0</td>\n",
       "      <td>1</td>\n",
       "      <td>1</td>\n",
       "      <td>0</td>\n",
       "      <td>1</td>\n",
       "      <td>0</td>\n",
       "      <td>0</td>\n",
       "      <td>0</td>\n",
       "      <td>0</td>\n",
       "      <td>0</td>\n",
       "      <td>37.0</td>\n",
       "    </tr>\n",
       "    <tr>\n",
       "      <th>3</th>\n",
       "      <td>0</td>\n",
       "      <td>0</td>\n",
       "      <td>133.9500</td>\n",
       "      <td>0</td>\n",
       "      <td>0</td>\n",
       "      <td>1</td>\n",
       "      <td>1</td>\n",
       "      <td>0</td>\n",
       "      <td>1</td>\n",
       "      <td>0</td>\n",
       "      <td>0</td>\n",
       "      <td>0</td>\n",
       "      <td>0</td>\n",
       "      <td>0</td>\n",
       "      <td>37.0</td>\n",
       "    </tr>\n",
       "    <tr>\n",
       "      <th>4</th>\n",
       "      <td>0</td>\n",
       "      <td>0</td>\n",
       "      <td>176.7000</td>\n",
       "      <td>0</td>\n",
       "      <td>0</td>\n",
       "      <td>1</td>\n",
       "      <td>1</td>\n",
       "      <td>0</td>\n",
       "      <td>1</td>\n",
       "      <td>0</td>\n",
       "      <td>0</td>\n",
       "      <td>0</td>\n",
       "      <td>0</td>\n",
       "      <td>0</td>\n",
       "      <td>34.0</td>\n",
       "    </tr>\n",
       "  </tbody>\n",
       "</table>\n",
       "</div>"
      ],
      "text/plain": [
       "  store_id sku_id  total_price  is_featured_sku  is_display_sku  month  \\\n",
       "0        0      1     108.3000                0               0      1   \n",
       "1        0      0     109.0125                0               0      1   \n",
       "2        0      0     133.9500                0               0      1   \n",
       "3        0      0     133.9500                0               0      1   \n",
       "4        0      0     176.7000                0               0      1   \n",
       "\n",
       "  week_number  year_2011  year_2013  day_name_Friday  day_name_Saturday  \\\n",
       "0           1          0          1                0                  0   \n",
       "1           1          0          1                0                  0   \n",
       "2           1          0          1                0                  0   \n",
       "3           1          0          1                0                  0   \n",
       "4           1          0          1                0                  0   \n",
       "\n",
       "   day_name_Sunday  day_name_Thursday  day_name_Wednesday  pred_units_sold  \n",
       "0                0                  0                   0             73.0  \n",
       "1                0                  0                   0             38.0  \n",
       "2                0                  0                   0             37.0  \n",
       "3                0                  0                   0             37.0  \n",
       "4                0                  0                   0             34.0  "
      ]
     },
     "execution_count": 123,
     "metadata": {},
     "output_type": "execute_result"
    }
   ],
   "source": [
    "df_test_final.head()"
   ]
  },
  {
   "cell_type": "code",
   "execution_count": 124,
   "id": "dea29743",
   "metadata": {},
   "outputs": [],
   "source": [
    "test_data[\"pred_units_sold\"] = lin_model.predict(A)\n",
    "test_data[\"pred_units_sold\"]= test_data[\"pred_units_sold\"].round(decimals=0)"
   ]
  },
  {
   "cell_type": "code",
   "execution_count": 125,
   "id": "2d9bb9fe",
   "metadata": {},
   "outputs": [],
   "source": [
    "#since we want weekly_prediction w.r.t store and sku id's, only choosing those features along with total_price.\n",
    "Test_Pred_Sub = test_data[[\"store_id\", \"sku_id\", \"week_number\", \"pred_units_sold\"]]"
   ]
  },
  {
   "cell_type": "code",
   "execution_count": 126,
   "id": "20ee6acf",
   "metadata": {},
   "outputs": [],
   "source": [
    "Test_Pred_Sub.sort_values(\"week_number\", inplace = True)\n",
    "Test_Pred_Sub.reset_index(inplace = True, drop = True)"
   ]
  },
  {
   "cell_type": "code",
   "execution_count": 127,
   "id": "19ff658c",
   "metadata": {},
   "outputs": [
    {
     "data": {
      "text/html": [
       "<div>\n",
       "<style scoped>\n",
       "    .dataframe tbody tr th:only-of-type {\n",
       "        vertical-align: middle;\n",
       "    }\n",
       "\n",
       "    .dataframe tbody tr th {\n",
       "        vertical-align: top;\n",
       "    }\n",
       "\n",
       "    .dataframe thead th {\n",
       "        text-align: right;\n",
       "    }\n",
       "</style>\n",
       "<table border=\"1\" class=\"dataframe\">\n",
       "  <thead>\n",
       "    <tr style=\"text-align: right;\">\n",
       "      <th></th>\n",
       "      <th>store_id</th>\n",
       "      <th>sku_id</th>\n",
       "      <th>week_number</th>\n",
       "      <th>pred_units_sold</th>\n",
       "    </tr>\n",
       "  </thead>\n",
       "  <tbody>\n",
       "    <tr>\n",
       "      <th>0</th>\n",
       "      <td>9371</td>\n",
       "      <td>219029</td>\n",
       "      <td>10</td>\n",
       "      <td>19.0</td>\n",
       "    </tr>\n",
       "    <tr>\n",
       "      <th>1</th>\n",
       "      <td>9672</td>\n",
       "      <td>223245</td>\n",
       "      <td>10</td>\n",
       "      <td>62.0</td>\n",
       "    </tr>\n",
       "    <tr>\n",
       "      <th>2</th>\n",
       "      <td>9672</td>\n",
       "      <td>222765</td>\n",
       "      <td>10</td>\n",
       "      <td>23.0</td>\n",
       "    </tr>\n",
       "    <tr>\n",
       "      <th>3</th>\n",
       "      <td>9672</td>\n",
       "      <td>222087</td>\n",
       "      <td>10</td>\n",
       "      <td>28.0</td>\n",
       "    </tr>\n",
       "    <tr>\n",
       "      <th>4</th>\n",
       "      <td>9672</td>\n",
       "      <td>219029</td>\n",
       "      <td>10</td>\n",
       "      <td>19.0</td>\n",
       "    </tr>\n",
       "    <tr>\n",
       "      <th>5</th>\n",
       "      <td>9672</td>\n",
       "      <td>219009</td>\n",
       "      <td>10</td>\n",
       "      <td>63.0</td>\n",
       "    </tr>\n",
       "    <tr>\n",
       "      <th>6</th>\n",
       "      <td>9672</td>\n",
       "      <td>217390</td>\n",
       "      <td>10</td>\n",
       "      <td>30.0</td>\n",
       "    </tr>\n",
       "    <tr>\n",
       "      <th>7</th>\n",
       "      <td>9672</td>\n",
       "      <td>223153</td>\n",
       "      <td>10</td>\n",
       "      <td>26.0</td>\n",
       "    </tr>\n",
       "    <tr>\n",
       "      <th>8</th>\n",
       "      <td>9672</td>\n",
       "      <td>216233</td>\n",
       "      <td>10</td>\n",
       "      <td>33.0</td>\n",
       "    </tr>\n",
       "    <tr>\n",
       "      <th>9</th>\n",
       "      <td>9672</td>\n",
       "      <td>300021</td>\n",
       "      <td>10</td>\n",
       "      <td>78.0</td>\n",
       "    </tr>\n",
       "  </tbody>\n",
       "</table>\n",
       "</div>"
      ],
      "text/plain": [
       "  store_id  sku_id week_number  pred_units_sold\n",
       "0     9371  219029          10             19.0\n",
       "1     9672  223245          10             62.0\n",
       "2     9672  222765          10             23.0\n",
       "3     9672  222087          10             28.0\n",
       "4     9672  219029          10             19.0\n",
       "5     9672  219009          10             63.0\n",
       "6     9672  217390          10             30.0\n",
       "7     9672  223153          10             26.0\n",
       "8     9672  216233          10             33.0\n",
       "9     9672  300021          10             78.0"
      ]
     },
     "execution_count": 127,
     "metadata": {},
     "output_type": "execute_result"
    }
   ],
   "source": [
    "Test_Pred_Sub.head(10)"
   ]
  },
  {
   "cell_type": "code",
   "execution_count": 128,
   "id": "dfb67dff",
   "metadata": {},
   "outputs": [],
   "source": [
    "#Saving the resultant df as csv file\n",
    "Test_Pred_Sub.to_csv(\"Demand_Prediction_Linear_Regression_Model\", index = False)"
   ]
  },
  {
   "cell_type": "markdown",
   "id": "893231e8",
   "metadata": {},
   "source": [
    "To Find the best model for this problem statement, checking for other models aswell since LR model's accuracy is not good."
   ]
  },
  {
   "cell_type": "code",
   "execution_count": 783,
   "id": "6401bc7d",
   "metadata": {},
   "outputs": [],
   "source": [
    "''' Importing all the classification models '''\n",
    "from sklearn.linear_model import LogisticRegression\n",
    "from sklearn.ensemble import RandomForestClassifier\n",
    "from sklearn.tree import DecisionTreeClassifier\n",
    "from sklearn.neighbors import KNeighborsClassifier\n",
    "#from sklearn.svm import SVC"
   ]
  },
  {
   "cell_type": "code",
   "execution_count": 784,
   "id": "3deabe85",
   "metadata": {},
   "outputs": [],
   "source": [
    "from sklearn.metrics import accuracy_score"
   ]
  },
  {
   "cell_type": "code",
   "execution_count": null,
   "id": "6143cebc",
   "metadata": {},
   "outputs": [],
   "source": [
    "# For Logistic Regression\n",
    "lg = LogisticRegression()\n",
    "lg.fit(X_train, Y_train)\n",
    "pred_lg = lg.predict(X_test)\n",
    "print(\"Accuracy Score of Logistic Regression model is\", accuracy_score(Y_test, pred_lg)*100)\n",
    "\n",
    "# For Decision Tree Classifier\n",
    "dtc = DecisionTreeClassifier()\n",
    "dtc.fit(X_train, Y_train)\n",
    "pred_dtc = dtc.predict(X_test)\n",
    "print(\"Accuracy Score of Decision Tree Classifier model is\", accuracy_score(Y_test, pred_dtc)*100)\n",
    "\n",
    "# For K-Nearest Neighbour Classifier\n",
    "knc = KNeighborsClassifier(n_neighbors = 5)\n",
    "knc.fit(X_train, Y_train)\n",
    "pred_knc = knc.predict(X_test)\n",
    "print(\"Accuracy Score of K-Nearest Neighbour Classifier model is\", accuracy_score(Y_test, pred_knc)*100)\n",
    "\n",
    "\n",
    "# For Random Forest Classifier\n",
    "rfc = RandomForestClassifier()\n",
    "rfc.fit(X_train, Y_train)\n",
    "pred_rfc = rfc.predict(X_test)\n",
    "print(\"Accuracy Score of Random Forest model is\", accuracy_score(Y_test, pred_rfc)*100)\n"
   ]
  },
  {
   "cell_type": "markdown",
   "id": "d25878d0",
   "metadata": {},
   "source": [
    "### CROSS VALIDATION:"
   ]
  },
  {
   "cell_type": "markdown",
   "id": "79459229",
   "metadata": {},
   "source": [
    "we will cross validate the model to avoid the overfitting or underfitting of the model."
   ]
  },
  {
   "cell_type": "code",
   "execution_count": null,
   "id": "326652d9",
   "metadata": {},
   "outputs": [],
   "source": [
    "from sklearn.model_selection import cross_val_score\n",
    "\n",
    "lg_scores = cross_val_score(lg, X, Y, cv = 5) # cross validating the model\n",
    "print(lg_scores) # accuracy scores of each cross validation cycle\n",
    "print(f\"Mean of accuracy scores is for Logistic Regression is {lg_scores.mean()*100}\\n\")\n",
    "\n",
    "dtc_scores = cross_val_score(dtc, X, Y, cv = 5)\n",
    "print(dtc_scores)\n",
    "print(f\"Mean of accuracy scores is for Decision Tree Classifier is {dtc_scores.mean()*100}\\n\")\n",
    "\n",
    "knc_scores = cross_val_score(knc, X, Y, cv = 5)\n",
    "print(knc_scores)\n",
    "print(f\"Mean of accuracy scores is for KNN Classifier is {knc_scores.mean()*100}\\n\")\n",
    "\n",
    "rfc_scores = cross_val_score(rfc, X, Y, cv = 5)\n",
    "print(rfc_scores)\n",
    "print(f\"Mean of accuracy scores is for Random Forest Classifier is {rfc_scores.mean()*100}\\n\")\n"
   ]
  },
  {
   "cell_type": "code",
   "execution_count": null,
   "id": "3504830c",
   "metadata": {},
   "outputs": [],
   "source": []
  }
 ],
 "metadata": {
  "kernelspec": {
   "display_name": "Python 3 (ipykernel)",
   "language": "python",
   "name": "python3"
  },
  "language_info": {
   "codemirror_mode": {
    "name": "ipython",
    "version": 3
   },
   "file_extension": ".py",
   "mimetype": "text/x-python",
   "name": "python",
   "nbconvert_exporter": "python",
   "pygments_lexer": "ipython3",
   "version": "3.9.12"
  }
 },
 "nbformat": 4,
 "nbformat_minor": 5
}
